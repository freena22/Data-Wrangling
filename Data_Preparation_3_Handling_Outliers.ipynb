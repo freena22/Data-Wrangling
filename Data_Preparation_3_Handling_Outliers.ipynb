{
 "cells": [
  {
   "cell_type": "markdown",
   "metadata": {},
   "source": [
    "## IQR based method to detect outliers\n",
    "- this is a standard method used in statistics to detect outliers\n",
    "- IQR = Q3 - Q1 (25% is Q1 and 75% is Q3)\n",
    "- 1.5*IQR is lower bound and 1.5*IQR range above Q3 is upper bound for outlier detection. All the point lying below the lower bound and lying above the upper bound are our outlier points.\n"
   ]
  },
  {
   "cell_type": "code",
   "execution_count": 3,
   "metadata": {},
   "outputs": [
    {
     "data": {
      "text/plain": [
       "<matplotlib.figure.Figure at 0x1056e2fd0>"
      ]
     },
     "metadata": {},
     "output_type": "display_data"
    },
    {
     "data": {
      "image/png": "[encoded data removed]",
      "text/plain": [
       "<matplotlib.figure.Figure at 0x1084d4630>"
      ]
     },
     "metadata": {},
     "output_type": "display_data"
    }
   ],
   "source": [
    "import numpy as np\n",
    "import matplotlib.pyplot as plt\n",
    "\n",
    "np.random.seed(10)\n",
    "array1 = np.random.normal(100,10,200)\n",
    "array2 = np.random.normal(90,20,200)\n",
    "data =[array1, array2]\n",
    "\n",
    "fig =plt.figure()\n",
    "ax = fig.add_subplot(111)\n",
    "res = ax.boxplot(data)\n",
    "plt.show()"
   ]
  },
  {
   "cell_type": "code",
   "execution_count": 11,
   "metadata": {},
   "outputs": [
    {
     "data": {
      "image/png": "[encoded data removed]",
      "text/plain": [
       "<matplotlib.figure.Figure at 0x1086369b0>"
      ]
     },
     "metadata": {},
     "output_type": "display_data"
    }
   ],
   "source": [
    "# use different standard to remove outliers\n",
    "\n",
    "def reject_outliers(data):\n",
    "    m = 2\n",
    "    u = np.mean(data)\n",
    "    s = np.std(data)\n",
    "    filtered = [e for e in data if (u - 2 * s < e < u + 2 * s)]\n",
    "    return filtered\n",
    "\n",
    "filtered_data = reject_outliers(array1)\n",
    "fig =plt.figure()\n",
    "ax = fig.add_subplot(111)\n",
    "res = ax.boxplot(filtered_data)\n",
    "plt.show()"
   ]
  },
  {
   "cell_type": "code",
   "execution_count": 12,
   "metadata": {},
   "outputs": [
    {
     "name": "stdout",
     "output_type": "stream",
     "text": [
      "200\n",
      "187\n"
     ]
    }
   ],
   "source": [
    "print(len(array1))\n",
    "print(len(filtered_data))"
   ]
  },
  {
   "cell_type": "code",
   "execution_count": 13,
   "metadata": {},
   "outputs": [
    {
     "data": {
      "text/plain": [
       "191"
      ]
     },
     "execution_count": 13,
     "metadata": {},
     "output_type": "execute_result"
    }
   ],
   "source": [
    "def reject_outliers(data, m=2):\n",
    "    return data[abs(data - np.mean(data)) < m * np.std(data)]\n",
    "filtered_data = reject_outliers(array2)\n",
    "len(filtered_data)"
   ]
  },
  {
   "cell_type": "markdown",
   "metadata": {},
   "source": [
    "## Standard Deviation based method to detect outliers\n",
    "- in this standard deviation method, we consider all the points with values more than or less than the 3 times std from mean are considered outliers."
   ]
  },
  {
   "cell_type": "code",
   "execution_count": null,
   "metadata": {
    "collapsed": true
   },
   "outputs": [],
   "source": [
    "import pandas as pd\n",
    "\n",
    "df[(np.abs(df.Data - df.Data.mean()) > (3*df.Data.std()))]\n",
    "df[(np.abs(df.Data - df.Data.mean())) <= (3*df.Data.std())]\n",
    "\n"
   ]
  }
 ],
 "metadata": {
  "kernelspec": {
   "display_name": "Python 3",
   "language": "python",
   "name": "python3"
  },
  "language_info": {
   "codemirror_mode": {
    "name": "ipython",
    "version": 3
   },
   "file_extension": ".py",
   "mimetype": "text/x-python",
   "name": "python",
   "nbconvert_exporter": "python",
   "pygments_lexer": "ipython3",
   "version": "3.6.3"
  }
 },
 "nbformat": 4,
 "nbformat_minor": 2
}
