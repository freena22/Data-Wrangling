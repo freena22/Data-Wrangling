{
 "cells": [
  {
   "cell_type": "markdown",
   "metadata": {},
   "source": [
    "## 1. Request URL"
   ]
  },
  {
   "cell_type": "code",
   "execution_count": 1,
   "metadata": {
    "collapsed": true
   },
   "outputs": [],
   "source": [
    "import requests\n",
    "import os"
   ]
  },
  {
   "cell_type": "code",
   "execution_count": 2,
   "metadata": {
    "collapsed": true
   },
   "outputs": [],
   "source": [
    "# Make directory if it doesn't already exist\n",
    "folder_name = 'ebert_reviews'\n",
    "if not os.path.exists(folder_name):\n",
    "    os.makedirs(folder_name)"
   ]
  },
  {
   "cell_type": "code",
   "execution_count": 3,
   "metadata": {
    "collapsed": true
   },
   "outputs": [],
   "source": [
    "ebert_review_urls = ['https://d17h27t6h515a5.cloudfront.net/topher/2017/September/59ad9900_1-the-wizard-of-oz-1939-film/1-the-wizard-of-oz-1939-film.txt',\n",
    "                     'https://d17h27t6h515a5.cloudfront.net/topher/2017/September/59ad9901_2-citizen-kane/2-citizen-kane.txt',\n",
    "                     'https://d17h27t6h515a5.cloudfront.net/topher/2017/September/59ad9901_3-the-third-man/3-the-third-man.txt',\n",
    "                     'https://d17h27t6h515a5.cloudfront.net/topher/2017/September/59ad9902_4-get-out-film/4-get-out-film.txt',\n",
    "                     'https://d17h27t6h515a5.cloudfront.net/topher/2017/September/59ad9902_5-mad-max-fury-road/5-mad-max-fury-road.txt',\n",
    "                     'https://d17h27t6h515a5.cloudfront.net/topher/2017/September/59ad9902_6-the-cabinet-of-dr.-caligari/6-the-cabinet-of-dr.-caligari.txt',\n",
    "                     'https://d17h27t6h515a5.cloudfront.net/topher/2017/September/59ad9903_7-all-about-eve/7-all-about-eve.txt',\n",
    "                     'https://d17h27t6h515a5.cloudfront.net/topher/2017/September/59ad9903_8-inside-out-2015-film/8-inside-out-2015-film.txt',\n",
    "                     'https://d17h27t6h515a5.cloudfront.net/topher/2017/September/59ad9903_9-the-godfather/9-the-godfather.txt',\n",
    "                     'https://d17h27t6h515a5.cloudfront.net/topher/2017/September/59ad9904_10-metropolis-1927-film/10-metropolis-1927-film.txt',\n",
    "                     'https://d17h27t6h515a5.cloudfront.net/topher/2017/September/59ad9904_11-e.t.-the-extra-terrestrial/11-e.t.-the-extra-terrestrial.txt',\n",
    "                     'https://d17h27t6h515a5.cloudfront.net/topher/2017/September/59ad9904_12-modern-times-film/12-modern-times-film.txt',\n",
    "                     'https://d17h27t6h515a5.cloudfront.net/topher/2017/September/59ad9904_14-singin-in-the-rain/14-singin-in-the-rain.txt',\n",
    "                     'https://d17h27t6h515a5.cloudfront.net/topher/2017/September/59ad9905_15-boyhood-film/15-boyhood-film.txt',\n",
    "                     'https://d17h27t6h515a5.cloudfront.net/topher/2017/September/59ad9905_16-casablanca-film/16-casablanca-film.txt',\n",
    "                     'https://d17h27t6h515a5.cloudfront.net/topher/2017/September/59ad9905_17-moonlight-2016-film/17-moonlight-2016-film.txt',\n",
    "                     'https://d17h27t6h515a5.cloudfront.net/topher/2017/September/59ad9906_18-psycho-1960-film/18-psycho-1960-film.txt',\n",
    "                     'https://d17h27t6h515a5.cloudfront.net/topher/2017/September/59ad9906_19-laura-1944-film/19-laura-1944-film.txt',\n",
    "                     'https://d17h27t6h515a5.cloudfront.net/topher/2017/September/59ad9906_20-nosferatu/20-nosferatu.txt',\n",
    "                     'https://d17h27t6h515a5.cloudfront.net/topher/2017/September/59ad9907_21-snow-white-and-the-seven-dwarfs-1937-film/21-snow-white-and-the-seven-dwarfs-1937-film.txt',\n",
    "                     'https://d17h27t6h515a5.cloudfront.net/topher/2017/September/59ad9907_22-a-hard-day27s-night-film/22-a-hard-day27s-night-film.txt',\n",
    "                     'https://d17h27t6h515a5.cloudfront.net/topher/2017/September/59ad9907_23-la-grande-illusion/23-la-grande-illusion.txt',\n",
    "                     'https://d17h27t6h515a5.cloudfront.net/topher/2017/September/59ad9908_25-the-battle-of-algiers/25-the-battle-of-algiers.txt',\n",
    "                     'https://d17h27t6h515a5.cloudfront.net/topher/2017/September/59ad9908_26-dunkirk-2017-film/26-dunkirk-2017-film.txt',\n",
    "                     'https://d17h27t6h515a5.cloudfront.net/topher/2017/September/59ad9908_27-the-maltese-falcon-1941-film/27-the-maltese-falcon-1941-film.txt',\n",
    "                     'https://d17h27t6h515a5.cloudfront.net/topher/2017/September/59ad9909_29-12-years-a-slave-film/29-12-years-a-slave-film.txt',\n",
    "                     'https://d17h27t6h515a5.cloudfront.net/topher/2017/September/59ad9909_30-gravity-2013-film/30-gravity-2013-film.txt',\n",
    "                     'https://d17h27t6h515a5.cloudfront.net/topher/2017/September/59ad9909_31-sunset-boulevard-film/31-sunset-boulevard-film.txt',\n",
    "                     'https://d17h27t6h515a5.cloudfront.net/topher/2017/September/59ad990a_32-king-kong-1933-film/32-king-kong-1933-film.txt',\n",
    "                     'https://d17h27t6h515a5.cloudfront.net/topher/2017/September/59ad990a_33-spotlight-film/33-spotlight-film.txt',\n",
    "                     'https://d17h27t6h515a5.cloudfront.net/topher/2017/September/59ad990a_34-the-adventures-of-robin-hood/34-the-adventures-of-robin-hood.txt',\n",
    "                     'https://d17h27t6h515a5.cloudfront.net/topher/2017/September/59ad990b_35-rashomon/35-rashomon.txt',\n",
    "                     'https://d17h27t6h515a5.cloudfront.net/topher/2017/September/59ad990b_36-rear-window/36-rear-window.txt',\n",
    "                     'https://d17h27t6h515a5.cloudfront.net/topher/2017/September/59ad990b_37-selma-film/37-selma-film.txt',\n",
    "                     'https://d17h27t6h515a5.cloudfront.net/topher/2017/September/59ad990c_38-taxi-driver/38-taxi-driver.txt',\n",
    "                     'https://d17h27t6h515a5.cloudfront.net/topher/2017/September/59ad990c_39-toy-story-3/39-toy-story-3.txt',\n",
    "                     'https://d17h27t6h515a5.cloudfront.net/topher/2017/September/59ad990c_40-argo-2012-film/40-argo-2012-film.txt',\n",
    "                     'https://d17h27t6h515a5.cloudfront.net/topher/2017/September/59ad990d_41-toy-story-2/41-toy-story-2.txt',\n",
    "                     'https://d17h27t6h515a5.cloudfront.net/topher/2017/September/59ad990d_42-the-big-sick/42-the-big-sick.txt',\n",
    "                     'https://d17h27t6h515a5.cloudfront.net/topher/2017/September/59ad990d_43-bride-of-frankenstein/43-bride-of-frankenstein.txt',\n",
    "                     'https://d17h27t6h515a5.cloudfront.net/topher/2017/September/59ad990d_44-zootopia/44-zootopia.txt',\n",
    "                     'https://d17h27t6h515a5.cloudfront.net/topher/2017/September/59ad990e_45-m-1931-film/45-m-1931-film.txt',\n",
    "                     'https://d17h27t6h515a5.cloudfront.net/topher/2017/September/59ad990e_46-wonder-woman-2017-film/46-wonder-woman-2017-film.txt',\n",
    "                     'https://d17h27t6h515a5.cloudfront.net/topher/2017/September/59ad990e_48-alien-film/48-alien-film.txt',\n",
    "                     'https://d17h27t6h515a5.cloudfront.net/topher/2017/September/59ad990f_49-bicycle-thieves/49-bicycle-thieves.txt',\n",
    "                     'https://d17h27t6h515a5.cloudfront.net/topher/2017/September/59ad990f_50-seven-samurai/50-seven-samurai.txt',\n",
    "                     'https://d17h27t6h515a5.cloudfront.net/topher/2017/September/59ad990f_51-the-treasure-of-the-sierra-madre-film/51-the-treasure-of-the-sierra-madre-film.txt',\n",
    "                     'https://d17h27t6h515a5.cloudfront.net/topher/2017/September/59ad9910_52-up-2009-film/52-up-2009-film.txt',\n",
    "                     'https://d17h27t6h515a5.cloudfront.net/topher/2017/September/59ad9910_53-12-angry-men-1957-film/53-12-angry-men-1957-film.txt',\n",
    "                     'https://d17h27t6h515a5.cloudfront.net/topher/2017/September/59ad9910_54-the-400-blows/54-the-400-blows.txt',\n",
    "                     'https://d17h27t6h515a5.cloudfront.net/topher/2017/September/59ad9911_55-logan-film/55-logan-film.txt',\n",
    "                     'https://d17h27t6h515a5.cloudfront.net/topher/2017/September/59ad9911_57-army-of-shadows/57-army-of-shadows.txt',\n",
    "                     'https://d17h27t6h515a5.cloudfront.net/topher/2017/September/59ad9912_58-arrival-film/58-arrival-film.txt',\n",
    "                     'https://d17h27t6h515a5.cloudfront.net/topher/2017/September/59ad9912_59-baby-driver/59-baby-driver.txt',\n",
    "                     'https://d17h27t6h515a5.cloudfront.net/topher/2017/September/59ad9913_60-a-streetcar-named-desire-1951-film/60-a-streetcar-named-desire-1951-film.txt',\n",
    "                     'https://d17h27t6h515a5.cloudfront.net/topher/2017/September/59ad9913_61-the-night-of-the-hunter-film/61-the-night-of-the-hunter-film.txt',\n",
    "                     'https://d17h27t6h515a5.cloudfront.net/topher/2017/September/59ad9913_62-star-wars-the-force-awakens/62-star-wars-the-force-awakens.txt',\n",
    "                     'https://d17h27t6h515a5.cloudfront.net/topher/2017/September/59ad9913_63-manchester-by-the-sea-film/63-manchester-by-the-sea-film.txt',\n",
    "                     'https://d17h27t6h515a5.cloudfront.net/topher/2017/September/59ad9914_64-dr.-strangelove/64-dr.-strangelove.txt',\n",
    "                     'https://d17h27t6h515a5.cloudfront.net/topher/2017/September/59ad9914_66-vertigo-film/66-vertigo-film.txt',\n",
    "                     'https://d17h27t6h515a5.cloudfront.net/topher/2017/September/59ad9914_67-the-dark-knight-film/67-the-dark-knight-film.txt',\n",
    "                     'https://d17h27t6h515a5.cloudfront.net/topher/2017/September/59ad9915_68-touch-of-evil/68-touch-of-evil.txt',\n",
    "                     'https://d17h27t6h515a5.cloudfront.net/topher/2017/September/59ad9915_69-the-babadook/69-the-babadook.txt',\n",
    "                     'https://d17h27t6h515a5.cloudfront.net/topher/2017/September/59ad9915_72-rosemary27s-baby-film/72-rosemary27s-baby-film.txt',\n",
    "                     'https://d17h27t6h515a5.cloudfront.net/topher/2017/September/59ad9916_73-finding-nemo/73-finding-nemo.txt',\n",
    "                     'https://d17h27t6h515a5.cloudfront.net/topher/2017/September/59ad9916_74-brooklyn-film/74-brooklyn-film.txt',\n",
    "                     'https://d17h27t6h515a5.cloudfront.net/topher/2017/September/59ad9917_75-the-wrestler-2008-film/75-the-wrestler-2008-film.txt',\n",
    "                     'https://d17h27t6h515a5.cloudfront.net/topher/2017/September/59ad9917_77-l.a.-confidential-film/77-l.a.-confidential-film.txt',\n",
    "                     'https://d17h27t6h515a5.cloudfront.net/topher/2017/September/59ad9918_78-gone-with-the-wind-film/78-gone-with-the-wind-film.txt',\n",
    "                     'https://d17h27t6h515a5.cloudfront.net/topher/2017/September/59ad9918_79-the-good-the-bad-and-the-ugly/79-the-good-the-bad-and-the-ugly.txt',\n",
    "                     'https://d17h27t6h515a5.cloudfront.net/topher/2017/September/59ad9918_80-skyfall/80-skyfall.txt',\n",
    "                     'https://d17h27t6h515a5.cloudfront.net/topher/2017/September/59ad9919_82-tokyo-story/82-tokyo-story.txt',\n",
    "                     'https://d17h27t6h515a5.cloudfront.net/topher/2017/September/59ad9919_83-hell-or-high-water-film/83-hell-or-high-water-film.txt',\n",
    "                     'https://d17h27t6h515a5.cloudfront.net/topher/2017/September/59ad9919_84-pinocchio-1940-film/84-pinocchio-1940-film.txt',\n",
    "                     'https://d17h27t6h515a5.cloudfront.net/topher/2017/September/59ad9919_85-the-jungle-book-2016-film/85-the-jungle-book-2016-film.txt',\n",
    "                     'https://d17h27t6h515a5.cloudfront.net/topher/2017/September/59ad991a_86-la-la-land-film/86-la-la-land-film.txt',\n",
    "                     'https://d17h27t6h515a5.cloudfront.net/topher/2017/September/59ad991b_87-star-trek-film/87-star-trek-film.txt',\n",
    "                     'https://d17h27t6h515a5.cloudfront.net/topher/2017/September/59ad991b_89-apocalypse-now/89-apocalypse-now.txt',\n",
    "                     'https://d17h27t6h515a5.cloudfront.net/topher/2017/September/59ad991c_90-on-the-waterfront/90-on-the-waterfront.txt',\n",
    "                     'https://d17h27t6h515a5.cloudfront.net/topher/2017/September/59ad991c_91-the-wages-of-fear/91-the-wages-of-fear.txt',\n",
    "                     'https://d17h27t6h515a5.cloudfront.net/topher/2017/September/59ad991c_92-the-last-picture-show/92-the-last-picture-show.txt',\n",
    "                     'https://d17h27t6h515a5.cloudfront.net/topher/2017/September/59ad991d_93-harry-potter-and-the-deathly-hallows-part-2/93-harry-potter-and-the-deathly-hallows-part-2.txt',\n",
    "                     'https://d17h27t6h515a5.cloudfront.net/topher/2017/September/59ad991d_94-the-grapes-of-wrath-film/94-the-grapes-of-wrath-film.txt',\n",
    "                     'https://d17h27t6h515a5.cloudfront.net/topher/2017/September/59ad991d_96-man-on-wire/96-man-on-wire.txt',\n",
    "                     'https://d17h27t6h515a5.cloudfront.net/topher/2017/September/59ad991e_97-jaws-film/97-jaws-film.txt',\n",
    "                     'https://d17h27t6h515a5.cloudfront.net/topher/2017/September/59ad991e_98-toy-story/98-toy-story.txt',\n",
    "                     'https://d17h27t6h515a5.cloudfront.net/topher/2017/September/59ad991e_99-the-godfather-part-ii/99-the-godfather-part-ii.txt',\n",
    "                     'https://d17h27t6h515a5.cloudfront.net/topher/2017/September/59ad991e_100-battleship-potemkin/100-battleship-potemkin.txt']"
   ]
  },
  {
   "cell_type": "code",
   "execution_count": 4,
   "metadata": {
    "collapsed": true
   },
   "outputs": [],
   "source": [
    "# Implement the code in the video above in a for loop for all Ebert reviews\n",
    "folder_name = 'ebert_reviews'\n",
    "\n",
    "for url in ebert_review_urls:\n",
    "    response = requests.get(url)\n",
    "    with open(os.path.join(folder_name, url.split('/')[-1]),mode='wb') as file:\n",
    "        file.write(response.content)"
   ]
  },
  {
   "cell_type": "code",
   "execution_count": 5,
   "metadata": {},
   "outputs": [
    {
     "data": {
      "text/plain": [
       "['26-dunkirk-2017-film.txt',\n",
       " '57-army-of-shadows.txt',\n",
       " '48-alien-film.txt',\n",
       " '43-bride-of-frankenstein.txt',\n",
       " '54-the-400-blows.txt',\n",
       " '63-manchester-by-the-sea-film.txt',\n",
       " '5-mad-max-fury-road.txt',\n",
       " '46-wonder-woman-2017-film.txt',\n",
       " '49-bicycle-thieves.txt',\n",
       " '19-laura-1944-film.txt',\n",
       " '98-toy-story.txt',\n",
       " '90-on-the-waterfront.txt',\n",
       " '39-toy-story-3.txt',\n",
       " '82-tokyo-story.txt',\n",
       " '23-la-grande-illusion.txt',\n",
       " '92-the-last-picture-show.txt',\n",
       " '36-rear-window.txt',\n",
       " '78-gone-with-the-wind-film.txt',\n",
       " '60-a-streetcar-named-desire-1951-film.txt',\n",
       " '84-pinocchio-1940-film.txt',\n",
       " '32-king-kong-1933-film.txt',\n",
       " '58-arrival-film.txt',\n",
       " '64-dr.-strangelove.txt',\n",
       " '40-argo-2012-film.txt',\n",
       " '22-a-hard-day27s-night-film.txt',\n",
       " '37-selma-film.txt',\n",
       " '83-hell-or-high-water-film.txt',\n",
       " '30-gravity-2013-film.txt',\n",
       " '55-logan-film.txt',\n",
       " '10-metropolis-1927-film.txt',\n",
       " '42-the-big-sick.txt',\n",
       " '72-rosemary27s-baby-film.txt',\n",
       " '53-12-angry-men-1957-film.txt',\n",
       " '4-get-out-film.txt',\n",
       " '11-e.t.-the-extra-terrestrial.txt',\n",
       " '44-zootopia.txt',\n",
       " '27-the-maltese-falcon-1941-film.txt',\n",
       " '52-up-2009-film.txt',\n",
       " '1-the-wizard-of-oz-1939-film.txt',\n",
       " '89-apocalypse-now.txt',\n",
       " '9-the-godfather.txt',\n",
       " '75-the-wrestler-2008-film.txt',\n",
       " '100-battleship-potemkin.txt',\n",
       " '94-the-grapes-of-wrath-film.txt',\n",
       " '12-modern-times-film.txt',\n",
       " '77-l.a.-confidential-film.txt',\n",
       " '17-moonlight-2016-film.txt',\n",
       " '35-rashomon.txt',\n",
       " '80-skyfall.txt',\n",
       " '16-casablanca-film.txt',\n",
       " '3-the-third-man.txt',\n",
       " '34-the-adventures-of-robin-hood.txt',\n",
       " '45-m-1931-film.txt',\n",
       " '69-the-babadook.txt',\n",
       " '21-snow-white-and-the-seven-dwarfs-1937-film.txt',\n",
       " '62-star-wars-the-force-awakens.txt',\n",
       " '87-star-trek-film.txt',\n",
       " '97-jaws-film.txt',\n",
       " '29-12-years-a-slave-film.txt',\n",
       " '85-the-jungle-book-2016-film.txt',\n",
       " '73-finding-nemo.txt',\n",
       " '8-inside-out-2015-film.txt',\n",
       " '93-harry-potter-and-the-deathly-hallows-part-2.txt',\n",
       " '51-the-treasure-of-the-sierra-madre-film.txt',\n",
       " '31-sunset-boulevard-film.txt',\n",
       " '99-the-godfather-part-ii.txt',\n",
       " '7-all-about-eve.txt',\n",
       " '61-the-night-of-the-hunter-film.txt',\n",
       " '66-vertigo-film.txt',\n",
       " '38-taxi-driver.txt',\n",
       " '91-the-wages-of-fear.txt',\n",
       " '33-spotlight-film.txt',\n",
       " '25-the-battle-of-algiers.txt',\n",
       " '86-la-la-land-film.txt',\n",
       " '2-citizen-kane.txt',\n",
       " '50-seven-samurai.txt',\n",
       " '74-brooklyn-film.txt',\n",
       " '18-psycho-1960-film.txt',\n",
       " '15-boyhood-film.txt',\n",
       " '79-the-good-the-bad-and-the-ugly.txt',\n",
       " '67-the-dark-knight-film.txt',\n",
       " '68-touch-of-evil.txt',\n",
       " '59-baby-driver.txt',\n",
       " '96-man-on-wire.txt',\n",
       " '41-toy-story-2.txt',\n",
       " '20-nosferatu.txt',\n",
       " '14-singin-in-the-rain.txt',\n",
       " '6-the-cabinet-of-dr.-caligari.txt']"
      ]
     },
     "execution_count": 5,
     "metadata": {},
     "output_type": "execute_result"
    }
   ],
   "source": [
    "os.listdir(folder_name)"
   ]
  },
  {
   "cell_type": "markdown",
   "metadata": {},
   "source": [
    "## 2. Text Files"
   ]
  },
  {
   "cell_type": "code",
   "execution_count": 6,
   "metadata": {
    "collapsed": true
   },
   "outputs": [],
   "source": [
    "import glob\n",
    "import pandas as pd"
   ]
  },
  {
   "cell_type": "code",
   "execution_count": 7,
   "metadata": {},
   "outputs": [
    {
     "name": "stdout",
     "output_type": "stream",
     "text": [
      "ebert_reviews/26-dunkirk-2017-film.txt\n",
      "ebert_reviews/57-army-of-shadows.txt\n",
      "ebert_reviews/48-alien-film.txt\n",
      "ebert_reviews/43-bride-of-frankenstein.txt\n",
      "ebert_reviews/54-the-400-blows.txt\n",
      "ebert_reviews/63-manchester-by-the-sea-film.txt\n",
      "ebert_reviews/5-mad-max-fury-road.txt\n",
      "ebert_reviews/46-wonder-woman-2017-film.txt\n",
      "ebert_reviews/49-bicycle-thieves.txt\n",
      "ebert_reviews/19-laura-1944-film.txt\n",
      "ebert_reviews/98-toy-story.txt\n",
      "ebert_reviews/90-on-the-waterfront.txt\n",
      "ebert_reviews/39-toy-story-3.txt\n",
      "ebert_reviews/82-tokyo-story.txt\n",
      "ebert_reviews/23-la-grande-illusion.txt\n",
      "ebert_reviews/92-the-last-picture-show.txt\n",
      "ebert_reviews/36-rear-window.txt\n",
      "ebert_reviews/78-gone-with-the-wind-film.txt\n",
      "ebert_reviews/60-a-streetcar-named-desire-1951-film.txt\n",
      "ebert_reviews/84-pinocchio-1940-film.txt\n",
      "ebert_reviews/32-king-kong-1933-film.txt\n",
      "ebert_reviews/58-arrival-film.txt\n",
      "ebert_reviews/64-dr.-strangelove.txt\n",
      "ebert_reviews/40-argo-2012-film.txt\n",
      "ebert_reviews/22-a-hard-day27s-night-film.txt\n",
      "ebert_reviews/37-selma-film.txt\n",
      "ebert_reviews/83-hell-or-high-water-film.txt\n",
      "ebert_reviews/30-gravity-2013-film.txt\n",
      "ebert_reviews/55-logan-film.txt\n",
      "ebert_reviews/10-metropolis-1927-film.txt\n",
      "ebert_reviews/42-the-big-sick.txt\n",
      "ebert_reviews/72-rosemary27s-baby-film.txt\n",
      "ebert_reviews/53-12-angry-men-1957-film.txt\n",
      "ebert_reviews/4-get-out-film.txt\n",
      "ebert_reviews/11-e.t.-the-extra-terrestrial.txt\n",
      "ebert_reviews/44-zootopia.txt\n",
      "ebert_reviews/27-the-maltese-falcon-1941-film.txt\n",
      "ebert_reviews/52-up-2009-film.txt\n",
      "ebert_reviews/1-the-wizard-of-oz-1939-film.txt\n",
      "ebert_reviews/89-apocalypse-now.txt\n",
      "ebert_reviews/9-the-godfather.txt\n",
      "ebert_reviews/75-the-wrestler-2008-film.txt\n",
      "ebert_reviews/100-battleship-potemkin.txt\n",
      "ebert_reviews/94-the-grapes-of-wrath-film.txt\n",
      "ebert_reviews/12-modern-times-film.txt\n",
      "ebert_reviews/77-l.a.-confidential-film.txt\n",
      "ebert_reviews/17-moonlight-2016-film.txt\n",
      "ebert_reviews/35-rashomon.txt\n",
      "ebert_reviews/80-skyfall.txt\n",
      "ebert_reviews/16-casablanca-film.txt\n",
      "ebert_reviews/3-the-third-man.txt\n",
      "ebert_reviews/34-the-adventures-of-robin-hood.txt\n",
      "ebert_reviews/45-m-1931-film.txt\n",
      "ebert_reviews/69-the-babadook.txt\n",
      "ebert_reviews/21-snow-white-and-the-seven-dwarfs-1937-film.txt\n",
      "ebert_reviews/62-star-wars-the-force-awakens.txt\n",
      "ebert_reviews/87-star-trek-film.txt\n",
      "ebert_reviews/97-jaws-film.txt\n",
      "ebert_reviews/29-12-years-a-slave-film.txt\n",
      "ebert_reviews/85-the-jungle-book-2016-film.txt\n",
      "ebert_reviews/73-finding-nemo.txt\n",
      "ebert_reviews/8-inside-out-2015-film.txt\n",
      "ebert_reviews/93-harry-potter-and-the-deathly-hallows-part-2.txt\n",
      "ebert_reviews/51-the-treasure-of-the-sierra-madre-film.txt\n",
      "ebert_reviews/31-sunset-boulevard-film.txt\n",
      "ebert_reviews/99-the-godfather-part-ii.txt\n",
      "ebert_reviews/7-all-about-eve.txt\n",
      "ebert_reviews/61-the-night-of-the-hunter-film.txt\n",
      "ebert_reviews/66-vertigo-film.txt\n",
      "ebert_reviews/38-taxi-driver.txt\n",
      "ebert_reviews/91-the-wages-of-fear.txt\n",
      "ebert_reviews/33-spotlight-film.txt\n",
      "ebert_reviews/25-the-battle-of-algiers.txt\n",
      "ebert_reviews/86-la-la-land-film.txt\n",
      "ebert_reviews/2-citizen-kane.txt\n",
      "ebert_reviews/50-seven-samurai.txt\n",
      "ebert_reviews/74-brooklyn-film.txt\n",
      "ebert_reviews/18-psycho-1960-film.txt\n",
      "ebert_reviews/15-boyhood-film.txt\n",
      "ebert_reviews/79-the-good-the-bad-and-the-ugly.txt\n",
      "ebert_reviews/67-the-dark-knight-film.txt\n",
      "ebert_reviews/68-touch-of-evil.txt\n",
      "ebert_reviews/59-baby-driver.txt\n",
      "ebert_reviews/96-man-on-wire.txt\n",
      "ebert_reviews/41-toy-story-2.txt\n",
      "ebert_reviews/20-nosferatu.txt\n",
      "ebert_reviews/14-singin-in-the-rain.txt\n",
      "ebert_reviews/6-the-cabinet-of-dr.-caligari.txt\n"
     ]
    }
   ],
   "source": [
    "for ebert_review in glob.glob('ebert_reviews/*.txt'): # match any string of any length\n",
    "    print(ebert_review)"
   ]
  },
  {
   "cell_type": "code",
   "execution_count": 8,
   "metadata": {},
   "outputs": [
    {
     "name": "stdout",
     "output_type": "stream",
     "text": [
      "Dunkirk (2017)\n",
      "http://www.rogerebert.com/reviews/dunkirk-2017\n",
      "Lean and ambitious, unsentimental and bombastic, overwhelmingly guy-centric, Christopher Nolan's World War II epic \"Dunkirk\" showcases the best and worst of the director's tendencies. The best win out and the worst recede in memory when you think back on the experience—provided that you want to remember \"Dunkirk,\" a movie that's supposed to be grueling and succeeds. Less of a war film and more of a disaster (or survival) picture, it's an ensemble work that chronicles the evacuation of British soldiers who got trapped in the harbor and on the beaches of Dunkirk, France, in late May and early June of 1940, with the Germans, who had driven Allied forces practically out to sea, closing in for one last sweep.\n",
      "\n",
      "If you were to make a list of every phobia you can think of, you'd have to tick off a lot of boxes after seeing this film. Fear of heights, fire, drowning, confined spaces, darkness, abandonment—you name it, it's represented in cinematographer Hoyte van Hoytema's nightmarishly clear images. And if you see the movie in one of the handful of theaters showing it in 70mm IMAX format, the experience will feel even more constricting and oppressive because of the image's unusual shape. It's close to the old-fashioned \"Academy\" ratio common to films made in cinema's early decades: squarish, tall instead of wide. That means that when you're in the cockpit of a fighter  diving towards the water, or running behind an infantryman dodging German snipers, the idea of \"tunnel vision,\" a phrase spoken by many a catastrophe survivor, comes to life onscreen. \n",
      "\n",
      "The film will be shown in a wider format in most cinemas, but I doubt this will lessen the overall effect: this is a pile-driver of a movie, dropping one visual or aural bomb after another, with barely a pause to contemplate what it's just shown you. To watch it is to feel beleaguered. This was a period in which German military power was ascendant and hope for the United Kingdom's survival was starting to ebb. The story of Dunkirk has been told on film before, notably in Leslie Norman's same-titled 1958 feature, and there has been no shortage of other films about other battlefield rescues; but this one feels different, mainly because of how it's made. \n",
      "\n",
      "Nolan, who also wrote the film's script, drops you into the middle of the action from frame one and keeps you there. This is an ensemble movie that doesn't just fail to delineate most of its characters through exposition but seems to take perverse pride in letting them scamper anonymously across the screen at flyspeck distance, getting lost amid crowds or merging with smoke or water. Scenes sometimes play out for minutes without audible dialogue, a rarity in commercial cinema made at this budget level; it's even rarer in Nolan's own films, which tend to clarify narrative via massive verbal exposition dumps. Nolan and van Hoytema hold shots longer than the Nolan norm, sometimes long enough to let you consider everything in the frame and decide where to let your eye settle. \n",
      "\n",
      "Like a more restless cousin of Terrence Malick, who infused the combat picture with Transcendental philosophy in \"The Thin Red Line,\" or Robert Altman, who painted microcosmic panoramas of civilization in such films as \"Nashville\" and \"Short Cuts,\" \"Dunkirk\" treats every person on that beach and in assorted nearby planes and boats as part of a collective organism, less interesting for their biographical details than for the roles they play in the drama of history, however large or small they may be. \"Dunkirk\" is what I like to call an Ant Farm Picture: it's a portrait of a society, or a species, fighting for its life. It's not hugely interested in the plight of individuals, unless they're trying to save themselves or others. If you get confused about who's who and what's what from time to time, you can rest assured that this is a feature of Nolan's methods, not a bug (pun intended). \n",
      "\n",
      "Tom Hardy plays a fighter pilot trying to blast German pilots out of the sky before they can strafe soldiers on the ground and sink boats in the harbor. He has maybe a dozen lines and spends much of the film behind a mask, as he did in his last collaboration with Nolan, \"The Dark Knight Rises\"; but he makes a strong impression anyway by treating the character as the sum total of his actions. Mark Rylance plays a civilian with teenage sons who is determined to pilot his small yacht to Dunkirk and rescue as many people as he can; there are lots of these self-appointed rescuers around Dunkirk; their ultimate organization into one of the twentieth century's boldest non-military flotillas is as inspiring as you imagine it to be. A trio of soldiers, one of whom is played by Harry Styles, rushes from the town to the beach and onto a long dock that stretches into the ocean; this is the only way that big boats can get close enough to shore to pick up the stranded. The would-be passengers pray that they can pile onto a ship and get out before more German planes shred them with bullets or bombs. Some of the characters, including Hardy's Farrier and Rylance's Mark Dawson or Kenneth Branagh's Commander Bolton, the highest ranking English officer on the scene, are given names. Others are identified only by their general appearance or actions, such as Cillian Murphy, known only as \"Shivering Soldier\"; he's pulled from the icy sea by Rylance's captain and strongly urges the crew to sail away from Dunkirk, not toward it.\n",
      "\n",
      "The film has its share of stumbling blocks. One is the persistent anonymity of the characters; just because a gambit is a conscious part of the film's design doesn't mean it always works, and there are moments you may wonder whether treating supporting players as something other than glorified cannon fodder might have resulted in a film as emotionally powerful as it is viscerally overwhelming. Another miscalculation is the score, by Hans Zimmer, a Jungian din of booming drums, bum-vibrating synth chords, and cawing string effects that loses much of its power by refusing to shut up, even when silence or ambient war noise might have been just as effective, or more so. The overuse of Zimmer's music has been an issue throughout Nolan's career, but here may become an object of debate. The situations and images are so vivid that the score often seems to be trying to rescue a film that doesn't need its help.\n",
      "\n",
      "I was more on-the-fence about the movie's intricate narrative construction, but once the film's visceral impact had faded, it was there that my mind wandered. Like most of Nolan's films, \"Dunkirk\" is obsessed by the relative perception of time. This is emphasized here by the cross-cutting of Lee Smith. Smith has edited all of Nolan's movies since \"Batman Begins\"—including \"Interstellar,\" which is explicitly about the idea of time passing more quickly or slowly depending on where you are. \"Dunkirk\" tells us in its chapter-like opening titles that one major subplot takes place over a week, another in a day, and yet another in one hour. Then the movie hops between them in ways that compress and expand time for poetic effect—making, say, a plane's run that probably took thirty seconds seem to take exactly as long as a sea rescue that lasted hours. \n",
      "\n",
      "One could make a case that this amounts to over-intellectualization of a strong, simple tale. But that's been Nolan's m.o. from \"Following\" and \"Memento\" onward, and I'd be lying if I said it didn't fascinate me, even if a particular film isn't doing much for me scene-to-scene. It has often been said that trauma wreaks havoc with one's perceptions of time. This is one of the few works I can think of that considers that idea over the course of a whole feature, not just in self-contained sequences. (The backbone of Zimmer's score, appropriately, is a ticking clock.)\n",
      "\n",
      "If somebody were to ask me if I liked this film, I would tell them no. I loathed parts of it and found other parts repetitious or half-baked. But, maybe paradoxically, I admired it throughout, and have been thinking about it constantly since I saw it. Even the aspects of \"Dunkirk\" that didn't sit right with me are all of a piece. This is a movie of vision and integrity made on an epic scale, a series of propositions dramatized with machines, bodies, seawater and fire. It deserves to be seen and argued about. They don't make them like this anymore. Never did, really.\n"
     ]
    }
   ],
   "source": [
    "for ebert_review in glob.glob('ebert_reviews/*.txt'):\n",
    "    with open(ebert_review, encoding='utf-8') as file:  # check the page to see the encoding format\n",
    "        print(file.read())\n",
    "        break     "
   ]
  },
  {
   "cell_type": "markdown",
   "metadata": {},
   "source": [
    " ### Seperate the whole txt file to 1.title 2.url 3. review content  "
   ]
  },
  {
   "cell_type": "code",
   "execution_count": 9,
   "metadata": {
    "collapsed": true
   },
   "outputs": [],
   "source": [
    "# List of dictionaries to build file by file and later convert to a DataFrame\n",
    "df_list = []\n",
    "for ebert_review in glob.glob('ebert_reviews/*.txt'):\n",
    "    with open(ebert_review, encoding='utf-8') as file:\n",
    "        title = file.readline()[:-1]\n",
    "        review_url = file.readline()[:-1]\n",
    "        review_text = file.read()\n",
    "        #print(review_url)\n",
    "        #break\n",
    "        \n",
    "        # Append to list of dictionaries\n",
    "        df_list.append({'title': title,\n",
    "                        'review_url': review_url,\n",
    "                        'review_text': review_text})\n",
    "df = pd.DataFrame(df_list, columns = ['title', 'review_url', 'review_text'])"
   ]
  },
  {
   "cell_type": "code",
   "execution_count": 10,
   "metadata": {},
   "outputs": [
    {
     "data": {
      "text/html": [
       "<div>\n",
       "<style>\n",
       "    .dataframe thead tr:only-child th {\n",
       "        text-align: right;\n",
       "    }\n",
       "\n",
       "    .dataframe thead th {\n",
       "        text-align: left;\n",
       "    }\n",
       "\n",
       "    .dataframe tbody tr th {\n",
       "        vertical-align: top;\n",
       "    }\n",
       "</style>\n",
       "<table border=\"1\" class=\"dataframe\">\n",
       "  <thead>\n",
       "    <tr style=\"text-align: right;\">\n",
       "      <th></th>\n",
       "      <th>title</th>\n",
       "      <th>review_url</th>\n",
       "      <th>review_text</th>\n",
       "    </tr>\n",
       "  </thead>\n",
       "  <tbody>\n",
       "    <tr>\n",
       "      <th>0</th>\n",
       "      <td>Dunkirk (2017)</td>\n",
       "      <td>http://www.rogerebert.com/reviews/dunkirk-2017</td>\n",
       "      <td>Lean and ambitious, unsentimental and bombasti...</td>\n",
       "    </tr>\n",
       "    <tr>\n",
       "      <th>1</th>\n",
       "      <td>Army of Shadows (L'Armée des ombres) (1969)</td>\n",
       "      <td>http://www.rogerebert.com/reviews/great-movie-...</td>\n",
       "      <td>Jean-Pierre Melville's \"Army of Shadows\" is ab...</td>\n",
       "    </tr>\n",
       "    <tr>\n",
       "      <th>2</th>\n",
       "      <td>Alien (1979)</td>\n",
       "      <td>http://www.rogerebert.com/reviews/great-movie-...</td>\n",
       "      <td>At its most fundamental level, \"Alien\" is a mo...</td>\n",
       "    </tr>\n",
       "    <tr>\n",
       "      <th>3</th>\n",
       "      <td>The Bride of Frankenstein (1935)</td>\n",
       "      <td>http://www.rogerebert.com/reviews/great-movie-...</td>\n",
       "      <td>To a new world of gods and monsters.\\n\\nSo int...</td>\n",
       "    </tr>\n",
       "    <tr>\n",
       "      <th>4</th>\n",
       "      <td>The 400 Blows (Les Quatre cents coups) (1959)</td>\n",
       "      <td>http://www.rogerebert.com/reviews/great-movie-...</td>\n",
       "      <td>I demand that a film express either the joy of...</td>\n",
       "    </tr>\n",
       "    <tr>\n",
       "      <th>5</th>\n",
       "      <td>Manchester by the Sea (2016)</td>\n",
       "      <td>http://www.rogerebert.com/reviews/manchester-b...</td>\n",
       "      <td>\"Manchester by the Sea,\" about a self-punishin...</td>\n",
       "    </tr>\n",
       "    <tr>\n",
       "      <th>6</th>\n",
       "      <td>Mad Max: Fury Road (2015)</td>\n",
       "      <td>http://www.rogerebert.com/reviews/mad-max-fury...</td>\n",
       "      <td>George Miller’s “Mad Max” films didn’t just ma...</td>\n",
       "    </tr>\n",
       "    <tr>\n",
       "      <th>7</th>\n",
       "      <td>Wonder Woman (2017)</td>\n",
       "      <td>http://www.rogerebert.com/reviews/wonder-woman...</td>\n",
       "      <td>Ever since William Moulton Marston created her...</td>\n",
       "    </tr>\n",
       "    <tr>\n",
       "      <th>8</th>\n",
       "      <td>Bicycle Thieves (Ladri di biciclette) (1949)</td>\n",
       "      <td>http://www.rogerebert.com/reviews/great-movie-...</td>\n",
       "      <td>\"The Bicycle Thief\" is so well-entrenched as a...</td>\n",
       "    </tr>\n",
       "    <tr>\n",
       "      <th>9</th>\n",
       "      <td>Laura (1944)</td>\n",
       "      <td>http://www.rogerebert.com/reviews/great-movie-...</td>\n",
       "      <td>I've seen Otto Preminger's “Laura” three or fo...</td>\n",
       "    </tr>\n",
       "    <tr>\n",
       "      <th>10</th>\n",
       "      <td>Toy Story (1995)</td>\n",
       "      <td>http://www.rogerebert.com/reviews/toy-story-1995</td>\n",
       "      <td>\"Toy Story\" creates a universe out of a couple...</td>\n",
       "    </tr>\n",
       "    <tr>\n",
       "      <th>11</th>\n",
       "      <td>On the Waterfront (1954)</td>\n",
       "      <td>http://www.rogerebert.com/reviews/great-movie-...</td>\n",
       "      <td>Conscience. That stuff can drive you nuts.\\n\\n...</td>\n",
       "    </tr>\n",
       "    <tr>\n",
       "      <th>12</th>\n",
       "      <td>Toy Story 3 (2010)</td>\n",
       "      <td>http://www.rogerebert.com/reviews/toy-story-3-...</td>\n",
       "      <td>The first two \"Toy Story\" movies centered on t...</td>\n",
       "    </tr>\n",
       "    <tr>\n",
       "      <th>13</th>\n",
       "      <td>Tokyo Story (Tôkyô monogatari) (1953)</td>\n",
       "      <td>http://www.rogerebert.com/reviews/great-movie-...</td>\n",
       "      <td>No story could be simpler. An old couple come ...</td>\n",
       "    </tr>\n",
       "    <tr>\n",
       "      <th>14</th>\n",
       "      <td>La Grande illusion (Grand Illusion) (1938)</td>\n",
       "      <td>http://www.rogerebert.com/reviews/great-movie-...</td>\n",
       "      <td>Apart from its other achievements, Jean Renoir...</td>\n",
       "    </tr>\n",
       "    <tr>\n",
       "      <th>15</th>\n",
       "      <td>The Last Picture Show (1971)</td>\n",
       "      <td>http://www.rogerebert.com/reviews/great-movie-...</td>\n",
       "      <td>The best scene in \"The Last Picture Show\" take...</td>\n",
       "    </tr>\n",
       "    <tr>\n",
       "      <th>16</th>\n",
       "      <td>Rear Window (1954)</td>\n",
       "      <td>http://www.rogerebert.com/reviews/great-movie-...</td>\n",
       "      <td>The hero of Alfred Hitchcock's \"Rear Window\" i...</td>\n",
       "    </tr>\n",
       "    <tr>\n",
       "      <th>17</th>\n",
       "      <td>Gone With the Wind (1939)</td>\n",
       "      <td>http://www.rogerebert.com/reviews/great-movie-...</td>\n",
       "      <td>\"Gone With the Wind” presents a sentimental vi...</td>\n",
       "    </tr>\n",
       "    <tr>\n",
       "      <th>18</th>\n",
       "      <td>A Streetcar Named Desire (1951)</td>\n",
       "      <td>http://www.rogerebert.com/reviews/a-streetcar-...</td>\n",
       "      <td>Marlon Brando didn't win the Academy Award in ...</td>\n",
       "    </tr>\n",
       "    <tr>\n",
       "      <th>19</th>\n",
       "      <td>Pinocchio (1940)</td>\n",
       "      <td>http://www.rogerebert.com/reviews/great-movie-...</td>\n",
       "      <td>When the Russian director Sergei Eisenstein sa...</td>\n",
       "    </tr>\n",
       "    <tr>\n",
       "      <th>20</th>\n",
       "      <td>King Kong (1933)</td>\n",
       "      <td>http://www.rogerebert.com/reviews/great-movie-...</td>\n",
       "      <td>On good days I consider \"Citizen Kane\" the sem...</td>\n",
       "    </tr>\n",
       "    <tr>\n",
       "      <th>21</th>\n",
       "      <td>Arrival (2016)</td>\n",
       "      <td>http://www.rogerebert.com/reviews/arrival-2016</td>\n",
       "      <td>Much has been written about the recent surge o...</td>\n",
       "    </tr>\n",
       "    <tr>\n",
       "      <th>22</th>\n",
       "      <td>Dr. Strangelove Or How I Learned to Stop Worry...</td>\n",
       "      <td>http://www.rogerebert.com/reviews/great-movie-...</td>\n",
       "      <td>Every time you see a great film, you find new ...</td>\n",
       "    </tr>\n",
       "    <tr>\n",
       "      <th>23</th>\n",
       "      <td>Argo (2012)</td>\n",
       "      <td>http://www.rogerebert.com/reviews/argo-2012</td>\n",
       "      <td>It's the same the world over. A Hollywood prod...</td>\n",
       "    </tr>\n",
       "    <tr>\n",
       "      <th>24</th>\n",
       "      <td>A Hard Day's Night (1964)</td>\n",
       "      <td>http://www.rogerebert.com/reviews/great-movie-...</td>\n",
       "      <td>When it opened in September, 1964, \"A Hard Day...</td>\n",
       "    </tr>\n",
       "    <tr>\n",
       "      <th>25</th>\n",
       "      <td>Selma (2015)</td>\n",
       "      <td>http://www.rogerebert.com/reviews/selma-2014</td>\n",
       "      <td>In a perfect world, “Selma” would exist solely...</td>\n",
       "    </tr>\n",
       "    <tr>\n",
       "      <th>26</th>\n",
       "      <td>Hell or High Water (2016)</td>\n",
       "      <td>http://www.rogerebert.com/reviews/hell-or-high...</td>\n",
       "      <td>After a summer filled with retreads, ripoffs a...</td>\n",
       "    </tr>\n",
       "    <tr>\n",
       "      <th>27</th>\n",
       "      <td>Gravity (2013)</td>\n",
       "      <td>http://www.rogerebert.com/reviews/gravity-2013</td>\n",
       "      <td>Alfonso Cuarón's \"Gravity,\" about astronauts c...</td>\n",
       "    </tr>\n",
       "    <tr>\n",
       "      <th>28</th>\n",
       "      <td>Logan (2017)</td>\n",
       "      <td>http://www.rogerebert.com/reviews/logan-2017</td>\n",
       "      <td>Is “Logan” more powerful because of what the s...</td>\n",
       "    </tr>\n",
       "    <tr>\n",
       "      <th>29</th>\n",
       "      <td>Metropolis (1927)</td>\n",
       "      <td>http://www.rogerebert.com/reviews/great-movie-...</td>\n",
       "      <td>The opening shots of the restored “Metropolis”...</td>\n",
       "    </tr>\n",
       "    <tr>\n",
       "      <th>...</th>\n",
       "      <td>...</td>\n",
       "      <td>...</td>\n",
       "      <td>...</td>\n",
       "    </tr>\n",
       "    <tr>\n",
       "      <th>58</th>\n",
       "      <td>12 Years a Slave (2013)</td>\n",
       "      <td>http://www.rogerebert.com/reviews/12-years-a-s...</td>\n",
       "      <td>After \"Django Unchained\" and Lee Daniels' \"The...</td>\n",
       "    </tr>\n",
       "    <tr>\n",
       "      <th>59</th>\n",
       "      <td>The Jungle Book (2016)</td>\n",
       "      <td>http://www.rogerebert.com/reviews/the-jungle-b...</td>\n",
       "      <td>I saw the newest Disney version of \"The Jungle...</td>\n",
       "    </tr>\n",
       "    <tr>\n",
       "      <th>60</th>\n",
       "      <td>Finding Nemo (2003)</td>\n",
       "      <td>http://www.rogerebert.com/reviews/finding-nemo...</td>\n",
       "      <td>\"Finding Nemo\" has all of the usual pleasures ...</td>\n",
       "    </tr>\n",
       "    <tr>\n",
       "      <th>61</th>\n",
       "      <td>Inside Out (2015)</td>\n",
       "      <td>http://www.rogerebert.com/reviews/inside-out-2015</td>\n",
       "      <td>\"Inside Out,\" a comedy-adventure set inside th...</td>\n",
       "    </tr>\n",
       "    <tr>\n",
       "      <th>62</th>\n",
       "      <td>Harry Potter and the Deathly Hallows - Part 2 ...</td>\n",
       "      <td>http://www.rogerebert.com/reviews/harry-potter...</td>\n",
       "      <td>After seven earlier films reaching back a deca...</td>\n",
       "    </tr>\n",
       "    <tr>\n",
       "      <th>63</th>\n",
       "      <td>The Treasure of the Sierra Madre (1948)</td>\n",
       "      <td>http://www.rogerebert.com/reviews/great-movie-...</td>\n",
       "      <td>When John Huston came back from the war and Hu...</td>\n",
       "    </tr>\n",
       "    <tr>\n",
       "      <th>64</th>\n",
       "      <td>Sunset Boulevard (1950)</td>\n",
       "      <td>http://www.rogerebert.com/reviews/great-movie-...</td>\n",
       "      <td>Billy Wilder's \"Sunset Boulevard” is the portr...</td>\n",
       "    </tr>\n",
       "    <tr>\n",
       "      <th>65</th>\n",
       "      <td>The Godfather, Part II (1974)</td>\n",
       "      <td>http://www.rogerebert.com/reviews/great-movie-...</td>\n",
       "      <td>The musical score plays an even greater role i...</td>\n",
       "    </tr>\n",
       "    <tr>\n",
       "      <th>66</th>\n",
       "      <td>All About Eve (1950)</td>\n",
       "      <td>http://www.rogerebert.com/reviews/great-movie-...</td>\n",
       "      <td>Growing older was a smart career move for Bett...</td>\n",
       "    </tr>\n",
       "    <tr>\n",
       "      <th>67</th>\n",
       "      <td>The Night of the Hunter (1955)</td>\n",
       "      <td>http://www.rogerebert.com/reviews/great-movie-...</td>\n",
       "      <td>Charles Laughton's \"The Night of the Hunter” (...</td>\n",
       "    </tr>\n",
       "    <tr>\n",
       "      <th>68</th>\n",
       "      <td>Vertigo (1958)</td>\n",
       "      <td>http://www.rogerebert.com/reviews/great-movie-...</td>\n",
       "      <td>“Did he train you? Did he rehearse you? Did he...</td>\n",
       "    </tr>\n",
       "    <tr>\n",
       "      <th>69</th>\n",
       "      <td>Taxi Driver (1976)</td>\n",
       "      <td>http://www.rogerebert.com/reviews/great-movie-...</td>\n",
       "      <td>Are you talkin' to me? Well, I'm the only one ...</td>\n",
       "    </tr>\n",
       "    <tr>\n",
       "      <th>70</th>\n",
       "      <td>The Wages of Fear (1953)</td>\n",
       "      <td>http://www.rogerebert.com/reviews/the-wages-of...</td>\n",
       "      <td>When the great French thriller \"The Wages of F...</td>\n",
       "    </tr>\n",
       "    <tr>\n",
       "      <th>71</th>\n",
       "      <td>Spotlight (2015)</td>\n",
       "      <td>http://www.rogerebert.com/reviews/spotlight-2015</td>\n",
       "      <td>On January 6, 2002, Boston Globe subscribers p...</td>\n",
       "    </tr>\n",
       "    <tr>\n",
       "      <th>72</th>\n",
       "      <td>The Battle of Algiers (La Battaglia di Algeri)...</td>\n",
       "      <td>http://www.rogerebert.com/reviews/great-movie-...</td>\n",
       "      <td>The most common form of warfare since 1945 has...</td>\n",
       "    </tr>\n",
       "    <tr>\n",
       "      <th>73</th>\n",
       "      <td>La La Land (2016)</td>\n",
       "      <td>http://www.rogerebert.com/reviews/la-la-land-2016</td>\n",
       "      <td>Musicals made me a romantic. They taught me th...</td>\n",
       "    </tr>\n",
       "    <tr>\n",
       "      <th>74</th>\n",
       "      <td>Citizen Kane (1941)</td>\n",
       "      <td>http://www.rogerebert.com/reviews/great-movie-...</td>\n",
       "      <td>“I don't think any word can explain a man's li...</td>\n",
       "    </tr>\n",
       "    <tr>\n",
       "      <th>75</th>\n",
       "      <td>Seven Samurai (Shichinin no Samurai) (1956)</td>\n",
       "      <td>http://www.rogerebert.com/reviews/great-movie-...</td>\n",
       "      <td>Akira Kurosawa's \"Seven Samurai\" (1954) is not...</td>\n",
       "    </tr>\n",
       "    <tr>\n",
       "      <th>76</th>\n",
       "      <td>Brooklyn (2015)</td>\n",
       "      <td>http://www.rogerebert.com/reviews/brooklyn-2015</td>\n",
       "      <td>Colm Tóibín’s 2009 novel “Brooklyn” is one of ...</td>\n",
       "    </tr>\n",
       "    <tr>\n",
       "      <th>77</th>\n",
       "      <td>Psycho (1960)</td>\n",
       "      <td>http://www.rogerebert.com/reviews/great-movie-...</td>\n",
       "      <td>\"It wasn't a message that stirred the audience...</td>\n",
       "    </tr>\n",
       "    <tr>\n",
       "      <th>78</th>\n",
       "      <td>Boyhood (2014)</td>\n",
       "      <td>http://www.rogerebert.com/reviews/boyhood-2014</td>\n",
       "      <td>The second shot of \"Boyhood\" doubles as the mo...</td>\n",
       "    </tr>\n",
       "    <tr>\n",
       "      <th>79</th>\n",
       "      <td>The Good, the Bad and the Ugly (1966)</td>\n",
       "      <td>http://www.rogerebert.com/reviews/great-movie-...</td>\n",
       "      <td>A vast empty Western landscape. The camera pan...</td>\n",
       "    </tr>\n",
       "    <tr>\n",
       "      <th>80</th>\n",
       "      <td>The Dark Knight (2008)</td>\n",
       "      <td>http://www.rogerebert.com/reviews/the-dark-kni...</td>\n",
       "      <td>“Batman” isn’t a comic book anymore. Christoph...</td>\n",
       "    </tr>\n",
       "    <tr>\n",
       "      <th>81</th>\n",
       "      <td>Touch of Evil (1958)</td>\n",
       "      <td>http://www.rogerebert.com/reviews/great-movie-...</td>\n",
       "      <td>Come on, read my future for me.You haven't got...</td>\n",
       "    </tr>\n",
       "    <tr>\n",
       "      <th>82</th>\n",
       "      <td>Baby Driver (2017)</td>\n",
       "      <td>http://www.rogerebert.com/reviews/baby-driver-...</td>\n",
       "      <td>Baby is a young man who creates remixes of his...</td>\n",
       "    </tr>\n",
       "    <tr>\n",
       "      <th>83</th>\n",
       "      <td>Man on Wire (2008)</td>\n",
       "      <td>http://www.rogerebert.com/reviews/man-on-wire-...</td>\n",
       "      <td>I am afraid of heights. Now you know. That is ...</td>\n",
       "    </tr>\n",
       "    <tr>\n",
       "      <th>84</th>\n",
       "      <td>Toy Story 2 (1999)</td>\n",
       "      <td>http://www.rogerebert.com/reviews/toy-story-2-...</td>\n",
       "      <td>I forgot something about toys a long time ago,...</td>\n",
       "    </tr>\n",
       "    <tr>\n",
       "      <th>85</th>\n",
       "      <td>Nosferatu, a Symphony of Horror (Nosferatu, ei...</td>\n",
       "      <td>http://www.rogerebert.com/reviews/great-movie-...</td>\n",
       "      <td>To watch F.W. Murnau's \"Nosferatu\" (1922) is t...</td>\n",
       "    </tr>\n",
       "    <tr>\n",
       "      <th>86</th>\n",
       "      <td>Singin' in the Rain (1952)</td>\n",
       "      <td>http://www.rogerebert.com/reviews/great-movie-...</td>\n",
       "      <td>There is no movie musical more fun than \"Singi...</td>\n",
       "    </tr>\n",
       "    <tr>\n",
       "      <th>87</th>\n",
       "      <td>The Cabinet of Dr. Caligari (Das Cabinet des D...</td>\n",
       "      <td>http://www.rogerebert.com/reviews/great-movie-...</td>\n",
       "      <td>The first thing everyone notices and best reme...</td>\n",
       "    </tr>\n",
       "  </tbody>\n",
       "</table>\n",
       "<p>88 rows × 3 columns</p>\n",
       "</div>"
      ],
      "text/plain": [
       "                                                title  \\\n",
       "0                                      Dunkirk (2017)   \n",
       "1         Army of Shadows (L'Armée des ombres) (1969)   \n",
       "2                                        Alien (1979)   \n",
       "3                    The Bride of Frankenstein (1935)   \n",
       "4       The 400 Blows (Les Quatre cents coups) (1959)   \n",
       "5                        Manchester by the Sea (2016)   \n",
       "6                           Mad Max: Fury Road (2015)   \n",
       "7                                 Wonder Woman (2017)   \n",
       "8        Bicycle Thieves (Ladri di biciclette) (1949)   \n",
       "9                                        Laura (1944)   \n",
       "10                                   Toy Story (1995)   \n",
       "11                           On the Waterfront (1954)   \n",
       "12                                 Toy Story 3 (2010)   \n",
       "13              Tokyo Story (Tôkyô monogatari) (1953)   \n",
       "14         La Grande illusion (Grand Illusion) (1938)   \n",
       "15                       The Last Picture Show (1971)   \n",
       "16                                 Rear Window (1954)   \n",
       "17                          Gone With the Wind (1939)   \n",
       "18                    A Streetcar Named Desire (1951)   \n",
       "19                                   Pinocchio (1940)   \n",
       "20                                   King Kong (1933)   \n",
       "21                                     Arrival (2016)   \n",
       "22  Dr. Strangelove Or How I Learned to Stop Worry...   \n",
       "23                                        Argo (2012)   \n",
       "24                          A Hard Day's Night (1964)   \n",
       "25                                       Selma (2015)   \n",
       "26                          Hell or High Water (2016)   \n",
       "27                                     Gravity (2013)   \n",
       "28                                       Logan (2017)   \n",
       "29                                  Metropolis (1927)   \n",
       "..                                                ...   \n",
       "58                            12 Years a Slave (2013)   \n",
       "59                             The Jungle Book (2016)   \n",
       "60                                Finding Nemo (2003)   \n",
       "61                                  Inside Out (2015)   \n",
       "62  Harry Potter and the Deathly Hallows - Part 2 ...   \n",
       "63            The Treasure of the Sierra Madre (1948)   \n",
       "64                            Sunset Boulevard (1950)   \n",
       "65                      The Godfather, Part II (1974)   \n",
       "66                               All About Eve (1950)   \n",
       "67                     The Night of the Hunter (1955)   \n",
       "68                                     Vertigo (1958)   \n",
       "69                                 Taxi Driver (1976)   \n",
       "70                           The Wages of Fear (1953)   \n",
       "71                                   Spotlight (2015)   \n",
       "72  The Battle of Algiers (La Battaglia di Algeri)...   \n",
       "73                                  La La Land (2016)   \n",
       "74                                Citizen Kane (1941)   \n",
       "75        Seven Samurai (Shichinin no Samurai) (1956)   \n",
       "76                                    Brooklyn (2015)   \n",
       "77                                      Psycho (1960)   \n",
       "78                                     Boyhood (2014)   \n",
       "79              The Good, the Bad and the Ugly (1966)   \n",
       "80                             The Dark Knight (2008)   \n",
       "81                               Touch of Evil (1958)   \n",
       "82                                 Baby Driver (2017)   \n",
       "83                                 Man on Wire (2008)   \n",
       "84                                 Toy Story 2 (1999)   \n",
       "85  Nosferatu, a Symphony of Horror (Nosferatu, ei...   \n",
       "86                         Singin' in the Rain (1952)   \n",
       "87  The Cabinet of Dr. Caligari (Das Cabinet des D...   \n",
       "\n",
       "                                           review_url  \\\n",
       "0      http://www.rogerebert.com/reviews/dunkirk-2017   \n",
       "1   http://www.rogerebert.com/reviews/great-movie-...   \n",
       "2   http://www.rogerebert.com/reviews/great-movie-...   \n",
       "3   http://www.rogerebert.com/reviews/great-movie-...   \n",
       "4   http://www.rogerebert.com/reviews/great-movie-...   \n",
       "5   http://www.rogerebert.com/reviews/manchester-b...   \n",
       "6   http://www.rogerebert.com/reviews/mad-max-fury...   \n",
       "7   http://www.rogerebert.com/reviews/wonder-woman...   \n",
       "8   http://www.rogerebert.com/reviews/great-movie-...   \n",
       "9   http://www.rogerebert.com/reviews/great-movie-...   \n",
       "10   http://www.rogerebert.com/reviews/toy-story-1995   \n",
       "11  http://www.rogerebert.com/reviews/great-movie-...   \n",
       "12  http://www.rogerebert.com/reviews/toy-story-3-...   \n",
       "13  http://www.rogerebert.com/reviews/great-movie-...   \n",
       "14  http://www.rogerebert.com/reviews/great-movie-...   \n",
       "15  http://www.rogerebert.com/reviews/great-movie-...   \n",
       "16  http://www.rogerebert.com/reviews/great-movie-...   \n",
       "17  http://www.rogerebert.com/reviews/great-movie-...   \n",
       "18  http://www.rogerebert.com/reviews/a-streetcar-...   \n",
       "19  http://www.rogerebert.com/reviews/great-movie-...   \n",
       "20  http://www.rogerebert.com/reviews/great-movie-...   \n",
       "21     http://www.rogerebert.com/reviews/arrival-2016   \n",
       "22  http://www.rogerebert.com/reviews/great-movie-...   \n",
       "23        http://www.rogerebert.com/reviews/argo-2012   \n",
       "24  http://www.rogerebert.com/reviews/great-movie-...   \n",
       "25       http://www.rogerebert.com/reviews/selma-2014   \n",
       "26  http://www.rogerebert.com/reviews/hell-or-high...   \n",
       "27     http://www.rogerebert.com/reviews/gravity-2013   \n",
       "28       http://www.rogerebert.com/reviews/logan-2017   \n",
       "29  http://www.rogerebert.com/reviews/great-movie-...   \n",
       "..                                                ...   \n",
       "58  http://www.rogerebert.com/reviews/12-years-a-s...   \n",
       "59  http://www.rogerebert.com/reviews/the-jungle-b...   \n",
       "60  http://www.rogerebert.com/reviews/finding-nemo...   \n",
       "61  http://www.rogerebert.com/reviews/inside-out-2015   \n",
       "62  http://www.rogerebert.com/reviews/harry-potter...   \n",
       "63  http://www.rogerebert.com/reviews/great-movie-...   \n",
       "64  http://www.rogerebert.com/reviews/great-movie-...   \n",
       "65  http://www.rogerebert.com/reviews/great-movie-...   \n",
       "66  http://www.rogerebert.com/reviews/great-movie-...   \n",
       "67  http://www.rogerebert.com/reviews/great-movie-...   \n",
       "68  http://www.rogerebert.com/reviews/great-movie-...   \n",
       "69  http://www.rogerebert.com/reviews/great-movie-...   \n",
       "70  http://www.rogerebert.com/reviews/the-wages-of...   \n",
       "71   http://www.rogerebert.com/reviews/spotlight-2015   \n",
       "72  http://www.rogerebert.com/reviews/great-movie-...   \n",
       "73  http://www.rogerebert.com/reviews/la-la-land-2016   \n",
       "74  http://www.rogerebert.com/reviews/great-movie-...   \n",
       "75  http://www.rogerebert.com/reviews/great-movie-...   \n",
       "76    http://www.rogerebert.com/reviews/brooklyn-2015   \n",
       "77  http://www.rogerebert.com/reviews/great-movie-...   \n",
       "78     http://www.rogerebert.com/reviews/boyhood-2014   \n",
       "79  http://www.rogerebert.com/reviews/great-movie-...   \n",
       "80  http://www.rogerebert.com/reviews/the-dark-kni...   \n",
       "81  http://www.rogerebert.com/reviews/great-movie-...   \n",
       "82  http://www.rogerebert.com/reviews/baby-driver-...   \n",
       "83  http://www.rogerebert.com/reviews/man-on-wire-...   \n",
       "84  http://www.rogerebert.com/reviews/toy-story-2-...   \n",
       "85  http://www.rogerebert.com/reviews/great-movie-...   \n",
       "86  http://www.rogerebert.com/reviews/great-movie-...   \n",
       "87  http://www.rogerebert.com/reviews/great-movie-...   \n",
       "\n",
       "                                          review_text  \n",
       "0   Lean and ambitious, unsentimental and bombasti...  \n",
       "1   Jean-Pierre Melville's \"Army of Shadows\" is ab...  \n",
       "2   At its most fundamental level, \"Alien\" is a mo...  \n",
       "3   To a new world of gods and monsters.\\n\\nSo int...  \n",
       "4   I demand that a film express either the joy of...  \n",
       "5   \"Manchester by the Sea,\" about a self-punishin...  \n",
       "6   George Miller’s “Mad Max” films didn’t just ma...  \n",
       "7   Ever since William Moulton Marston created her...  \n",
       "8   \"The Bicycle Thief\" is so well-entrenched as a...  \n",
       "9   I've seen Otto Preminger's “Laura” three or fo...  \n",
       "10  \"Toy Story\" creates a universe out of a couple...  \n",
       "11  Conscience. That stuff can drive you nuts.\\n\\n...  \n",
       "12  The first two \"Toy Story\" movies centered on t...  \n",
       "13  No story could be simpler. An old couple come ...  \n",
       "14  Apart from its other achievements, Jean Renoir...  \n",
       "15  The best scene in \"The Last Picture Show\" take...  \n",
       "16  The hero of Alfred Hitchcock's \"Rear Window\" i...  \n",
       "17  \"Gone With the Wind” presents a sentimental vi...  \n",
       "18  Marlon Brando didn't win the Academy Award in ...  \n",
       "19  When the Russian director Sergei Eisenstein sa...  \n",
       "20  On good days I consider \"Citizen Kane\" the sem...  \n",
       "21  Much has been written about the recent surge o...  \n",
       "22  Every time you see a great film, you find new ...  \n",
       "23  It's the same the world over. A Hollywood prod...  \n",
       "24  When it opened in September, 1964, \"A Hard Day...  \n",
       "25  In a perfect world, “Selma” would exist solely...  \n",
       "26  After a summer filled with retreads, ripoffs a...  \n",
       "27  Alfonso Cuarón's \"Gravity,\" about astronauts c...  \n",
       "28  Is “Logan” more powerful because of what the s...  \n",
       "29  The opening shots of the restored “Metropolis”...  \n",
       "..                                                ...  \n",
       "58  After \"Django Unchained\" and Lee Daniels' \"The...  \n",
       "59  I saw the newest Disney version of \"The Jungle...  \n",
       "60  \"Finding Nemo\" has all of the usual pleasures ...  \n",
       "61  \"Inside Out,\" a comedy-adventure set inside th...  \n",
       "62  After seven earlier films reaching back a deca...  \n",
       "63  When John Huston came back from the war and Hu...  \n",
       "64  Billy Wilder's \"Sunset Boulevard” is the portr...  \n",
       "65  The musical score plays an even greater role i...  \n",
       "66  Growing older was a smart career move for Bett...  \n",
       "67  Charles Laughton's \"The Night of the Hunter” (...  \n",
       "68  “Did he train you? Did he rehearse you? Did he...  \n",
       "69  Are you talkin' to me? Well, I'm the only one ...  \n",
       "70  When the great French thriller \"The Wages of F...  \n",
       "71  On January 6, 2002, Boston Globe subscribers p...  \n",
       "72  The most common form of warfare since 1945 has...  \n",
       "73  Musicals made me a romantic. They taught me th...  \n",
       "74  “I don't think any word can explain a man's li...  \n",
       "75  Akira Kurosawa's \"Seven Samurai\" (1954) is not...  \n",
       "76  Colm Tóibín’s 2009 novel “Brooklyn” is one of ...  \n",
       "77  \"It wasn't a message that stirred the audience...  \n",
       "78  The second shot of \"Boyhood\" doubles as the mo...  \n",
       "79  A vast empty Western landscape. The camera pan...  \n",
       "80  “Batman” isn’t a comic book anymore. Christoph...  \n",
       "81  Come on, read my future for me.You haven't got...  \n",
       "82  Baby is a young man who creates remixes of his...  \n",
       "83  I am afraid of heights. Now you know. That is ...  \n",
       "84  I forgot something about toys a long time ago,...  \n",
       "85  To watch F.W. Murnau's \"Nosferatu\" (1922) is t...  \n",
       "86  There is no movie musical more fun than \"Singi...  \n",
       "87  The first thing everyone notices and best reme...  \n",
       "\n",
       "[88 rows x 3 columns]"
      ]
     },
     "execution_count": 10,
     "metadata": {},
     "output_type": "execute_result"
    }
   ],
   "source": [
    "df"
   ]
  },
  {
   "cell_type": "markdown",
   "metadata": {},
   "source": [
    "## 3. APIs "
   ]
  },
  {
   "cell_type": "code",
   "execution_count": null,
   "metadata": {
    "collapsed": true
   },
   "outputs": [],
   "source": [
    "# A python wrapper for the Rotten Tomatoes API \n",
    "\n",
    "import rtsimple as rt\n",
    "rt.API_KEY = 'YOUR API KEY HERE'\n",
    "movie = rt.Movies('10489') # movie code for E.T.\n",
    "movie.ratings['audience_score']\n",
    "\n",
    "# If assess the API KEY, then the score 0f E.T.(72) will print out"
   ]
  },
  {
   "cell_type": "code",
   "execution_count": 11,
   "metadata": {},
   "outputs": [
    {
     "name": "stderr",
     "output_type": "stream",
     "text": [
      "en.wikipedia.org (query) E.T.\n",
      "API warning: {'extracts': {'warnings': 'HTML may be malformed and/or unbalanced and may omit inline images. Use at your own risk. Known problems are listed at https://www.mediawiki.org/wiki/Extension:TextExtracts#Caveats.'}}\n",
      "en.wikipedia.org (parse) 73441\n",
      "www.wikidata.org (wikidata) Q11621\n",
      "www.wikidata.org (labels) Q237207|Q21037379|P268|P4632|Q11424|Q38...\n",
      "www.wikidata.org (labels) Q3414212|Q505449|P4276|P2603|P86|Q37761...\n",
      "www.wikidata.org (labels) Q30|Q181508|Q65|P2631|P18|Q131520|P2704...\n",
      "www.wikidata.org (labels) Q586356|P1417|P3650|P3804|P1476|Q103360...\n",
      "en.wikipedia.org (restbase) /page/summary/E.T._the_Extra-Terrestrial\n",
      "en.wikipedia.org (imageinfo) File:E t the extra terrestrial ver3....\n",
      "E.T. the Extra-Terrestrial (en) data\n",
      "{\n",
      "  aliases: <list(2)> E.T., ET\n",
      "  assessments: <dict(4)> United States, Film, Science Fiction, Lib...\n",
      "  claims: <dict(80)> P1562, P57, P272, P345, P31, P161, P373, P480...\n",
      "  description: 1982 American science fiction film\n",
      "  exhtml: <str(606)> <p><i><b>E.T. the Extra-Terrestrial</b></i> i...\n",
      "  exrest: <str(575)> E.T. the Extra-Terrestrial is a 1982 American...\n",
      "  extext: <str(1803)> _**E.T. the Extra-Terrestrial**_ is a 1982 A...\n",
      "  extract: <str(1906)> <p><i><b>E.T. the Extra-Terrestrial</b></i>...\n",
      "  image: <list(4)> {'kind': 'parse-image', 'file': 'File:E t the e...\n",
      "  infobox: <dict(18)> name, image, caption, director, producers, w...\n",
      "  iwlinks: <list(4)> https://commons.wikimedia.org/wiki/Special:Se...\n",
      "  label: E.T. the Extra-Terrestrial\n",
      "  labels: <dict(158)> Q237207, Q21037379, P268, P4632, Q11424, Q38...\n",
      "  length: 75,435\n",
      "  links: <list(418)> 12 Monkeys, 12 Years a Slave (film), 1941 (fi...\n",
      "  modified: <dict(2)> page, wikidata\n",
      "  pageid: 73441\n",
      "  parsetree: <str(93968)> <root><template><title>Redirect</title><...\n",
      "  random: Tremor Christ\n",
      "  redirected: <list(1)> {'from': 'E.T.', 'to': 'E.T. the Extra-Ter...\n",
      "  redirects: <list(38)> {'pageid': 177061, 'ns': 0, 'title': 'E.T....\n",
      "  requests: <list(9)> query, parse, wikidata, labels, labels, labe...\n",
      "  title: E.T._the_Extra-Terrestrial\n",
      "  url: https://en.wikipedia.org/wiki/E.T._the_Extra-Terrestrial\n",
      "  url_raw: <str(67)> https://en.wikipedia.org/wiki/E.T._the_Extra-...\n",
      "  watchers: 260\n",
      "  what: film\n",
      "  wikibase: Q11621\n",
      "  wikidata: <dict(80)> AllMovie movie ID (P1562), director (P57), ...\n",
      "  wikidata_pageid: 13150\n",
      "  wikidata_url: https://www.wikidata.org/wiki/Q11621\n",
      "  wikitext: <str(75146)> {{Redirect|E.T.|other uses|ET (disambigua...\n",
      "}\n"
     ]
    }
   ],
   "source": [
    "# MediaWiki is an API that hosts all of the Wikipedia data\n",
    "\n",
    "import wptools\n",
    "page = wptools.page('E.T.').get()\n"
   ]
  },
  {
   "cell_type": "code",
   "execution_count": 12,
   "metadata": {},
   "outputs": [
    {
     "data": {
      "text/plain": [
       "[{'descriptionshorturl': 'https://en.wikipedia.org/w/index.php?curid=7419503',\n",
       "  'descriptionurl': 'https://en.wikipedia.org/wiki/File:E_t_the_extra_terrestrial_ver3.jpg',\n",
       "  'file': 'File:E t the extra terrestrial ver3.jpg',\n",
       "  'height': 394,\n",
       "  'kind': 'parse-image',\n",
       "  'metadata': {'Assessments': {'hidden': '',\n",
       "    'source': 'commons-categories',\n",
       "    'value': ''},\n",
       "   'Categories': {'hidden': '',\n",
       "    'source': 'commons-categories',\n",
       "    'value': 'All non-free media|E.T. the Extra-Terrestrial|Fair use images of movie posters|Files with no machine-readable author|Files with no machine-readable description|Files with no machine-readable license|Files with no machine-readable source|Noindexed pages|Non-free images for NFUR review|Non-free posters'},\n",
       "   'CommonsMetadataExtension': {'hidden': '',\n",
       "    'source': 'extension',\n",
       "    'value': 1.2},\n",
       "   'DateTime': {'hidden': '',\n",
       "    'source': 'mediawiki-metadata',\n",
       "    'value': '2016-06-04 10:30:46'},\n",
       "   'NonFree': {'hidden': '', 'source': 'commons-desc-page', 'value': 'true'},\n",
       "   'ObjectName': {'hidden': '',\n",
       "    'source': 'mediawiki-metadata',\n",
       "    'value': 'E t the extra terrestrial ver3'},\n",
       "   'Restrictions': {'hidden': '', 'source': 'commons-desc-page', 'value': ''}},\n",
       "  'orig': 'E t the extra terrestrial ver3.jpg',\n",
       "  'size': 83073,\n",
       "  'timestamp': '2016-06-04T10:30:46Z',\n",
       "  'title': 'File:E t the extra terrestrial ver3.jpg',\n",
       "  'url': 'https://upload.wikimedia.org/wikipedia/en/6/66/E_t_the_extra_terrestrial_ver3.jpg',\n",
       "  'width': 253},\n",
       " {'descriptionshorturl': 'https://commons.wikimedia.org/w/index.php?curid=14138952',\n",
       "  'descriptionurl': 'https://commons.wikimedia.org/wiki/File:ET_logo_3.svg',\n",
       "  'file': 'File:ET logo 3.svg',\n",
       "  'height': 380,\n",
       "  'kind': 'wikidata-image',\n",
       "  'metadata': {'Artist': {'source': 'commons-desc-page',\n",
       "    'value': '<a href=\"https://en.wikipedia.org/wiki/en:User:TheCuriousGnome\" class=\"extiw\" title=\"w:en:User:TheCuriousGnome\">User:TheCuriousGnome</a>'},\n",
       "   'Assessments': {'hidden': '', 'source': 'commons-categories', 'value': ''},\n",
       "   'AttributionRequired': {'hidden': '',\n",
       "    'source': 'commons-desc-page',\n",
       "    'value': 'false'},\n",
       "   'Categories': {'hidden': '',\n",
       "    'source': 'commons-categories',\n",
       "    'value': 'E.T. the Extra-Terrestrial|PD ineligible|With trademark'},\n",
       "   'CommonsMetadataExtension': {'hidden': '',\n",
       "    'source': 'extension',\n",
       "    'value': 1.2},\n",
       "   'Copyrighted': {'hidden': '',\n",
       "    'source': 'commons-desc-page',\n",
       "    'value': 'False'},\n",
       "   'Credit': {'hidden': '',\n",
       "    'source': 'commons-desc-page',\n",
       "    'value': 'Transferred from <a class=\"external text\" href=\"http://en.wikipedia.org\">en.wikipedia</a>'},\n",
       "   'DateTime': {'hidden': '',\n",
       "    'source': 'mediawiki-metadata',\n",
       "    'value': '2011-05-14 20:38:17'},\n",
       "   'DateTimeOriginal': {'source': 'commons-desc-page', 'value': '2011-02-28'},\n",
       "   'ImageDescription': {'source': 'commons-desc-page',\n",
       "    'value': 'Opening logo to the <a href=\"https://en.wikipedia.org/wiki/E.T._the_Extra-Terrestrial\" class=\"extiw\" title=\"en:E.T. the Extra-Terrestrial\">en:E.T. the Extra-Terrestrial</a> film'},\n",
       "   'License': {'hidden': '', 'source': 'commons-templates', 'value': 'pd'},\n",
       "   'LicenseShortName': {'hidden': '',\n",
       "    'source': 'commons-desc-page',\n",
       "    'value': 'Public domain'},\n",
       "   'ObjectName': {'hidden': '',\n",
       "    'source': 'mediawiki-metadata',\n",
       "    'value': 'ET logo 3'},\n",
       "   'Restrictions': {'hidden': '',\n",
       "    'source': 'commons-desc-page',\n",
       "    'value': 'trademarked'},\n",
       "   'UsageTerms': {'hidden': '',\n",
       "    'source': 'commons-desc-page',\n",
       "    'value': 'Public domain'}},\n",
       "  'orig': 'ET logo 3.svg',\n",
       "  'size': 77290,\n",
       "  'timestamp': '2011-05-14T20:38:17Z',\n",
       "  'title': 'File:ET logo 3.svg',\n",
       "  'url': 'https://upload.wikimedia.org/wikipedia/commons/8/85/ET_logo_3.svg',\n",
       "  'width': 512},\n",
       " {'file': 'File:E t the extra terrestrial ver3.jpg',\n",
       "  'height': 394,\n",
       "  'kind': 'restbase-original',\n",
       "  'orig': 'E_t_the_extra_terrestrial_ver3.jpg',\n",
       "  'url': 'https://upload.wikimedia.org/wikipedia/en/6/66/E_t_the_extra_terrestrial_ver3.jpg',\n",
       "  'width': 253},\n",
       " {'file': 'File:205px-E t the extra terrestrial ver3.jpg',\n",
       "  'height': 320,\n",
       "  'kind': 'restbase-thumb',\n",
       "  'orig': '205px-E_t_the_extra_terrestrial_ver3.jpg',\n",
       "  'url': 'https://upload.wikimedia.org/wikipedia/en/thumb/6/66/E_t_the_extra_terrestrial_ver3.jpg/205px-E_t_the_extra_terrestrial_ver3.jpg',\n",
       "  'width': 205}]"
      ]
     },
     "execution_count": 12,
     "metadata": {},
     "output_type": "execute_result"
    }
   ],
   "source": [
    "page.data['image']"
   ]
  },
  {
   "cell_type": "code",
   "execution_count": 13,
   "metadata": {},
   "outputs": [
    {
     "data": {
      "text/plain": [
       "'E.T._the_Extra-Terrestrial'"
      ]
     },
     "execution_count": 13,
     "metadata": {},
     "output_type": "execute_result"
    }
   ],
   "source": [
    "page.data['title']"
   ]
  },
  {
   "cell_type": "markdown",
   "metadata": {},
   "source": [
    "## 4. JSON File"
   ]
  },
  {
   "cell_type": "markdown",
   "metadata": {},
   "source": [
    "- Most data from APIs comes in JSON or XML format\n",
    "- JSON array -- Python list \n",
    "- JSON object -- Python dictionary"
   ]
  },
  {
   "cell_type": "code",
   "execution_count": null,
   "metadata": {
    "collapsed": true
   },
   "outputs": [],
   "source": [
    "page = wptools.page('E.T._the_Extra-Terrestrial').get()"
   ]
  },
  {
   "cell_type": "markdown",
   "metadata": {},
   "source": [
    "- Access the first image in the images attribute, which is a JSON array."
   ]
  },
  {
   "cell_type": "code",
   "execution_count": 14,
   "metadata": {},
   "outputs": [
    {
     "data": {
      "text/plain": [
       "{'descriptionshorturl': 'https://en.wikipedia.org/w/index.php?curid=7419503',\n",
       " 'descriptionurl': 'https://en.wikipedia.org/wiki/File:E_t_the_extra_terrestrial_ver3.jpg',\n",
       " 'file': 'File:E t the extra terrestrial ver3.jpg',\n",
       " 'height': 394,\n",
       " 'kind': 'parse-image',\n",
       " 'metadata': {'Assessments': {'hidden': '',\n",
       "   'source': 'commons-categories',\n",
       "   'value': ''},\n",
       "  'Categories': {'hidden': '',\n",
       "   'source': 'commons-categories',\n",
       "   'value': 'All non-free media|E.T. the Extra-Terrestrial|Fair use images of movie posters|Files with no machine-readable author|Files with no machine-readable description|Files with no machine-readable license|Files with no machine-readable source|Noindexed pages|Non-free images for NFUR review|Non-free posters'},\n",
       "  'CommonsMetadataExtension': {'hidden': '',\n",
       "   'source': 'extension',\n",
       "   'value': 1.2},\n",
       "  'DateTime': {'hidden': '',\n",
       "   'source': 'mediawiki-metadata',\n",
       "   'value': '2016-06-04 10:30:46'},\n",
       "  'NonFree': {'hidden': '', 'source': 'commons-desc-page', 'value': 'true'},\n",
       "  'ObjectName': {'hidden': '',\n",
       "   'source': 'mediawiki-metadata',\n",
       "   'value': 'E t the extra terrestrial ver3'},\n",
       "  'Restrictions': {'hidden': '', 'source': 'commons-desc-page', 'value': ''}},\n",
       " 'orig': 'E t the extra terrestrial ver3.jpg',\n",
       " 'size': 83073,\n",
       " 'timestamp': '2016-06-04T10:30:46Z',\n",
       " 'title': 'File:E t the extra terrestrial ver3.jpg',\n",
       " 'url': 'https://upload.wikimedia.org/wikipedia/en/6/66/E_t_the_extra_terrestrial_ver3.jpg',\n",
       " 'width': 253}"
      ]
     },
     "execution_count": 14,
     "metadata": {},
     "output_type": "execute_result"
    }
   ],
   "source": [
    "page.data['image'][0]"
   ]
  },
  {
   "cell_type": "code",
   "execution_count": 15,
   "metadata": {},
   "outputs": [
    {
     "data": {
      "text/plain": [
       "'https://en.wikipedia.org/w/index.php?curid=7419503'"
      ]
     },
     "execution_count": 15,
     "metadata": {},
     "output_type": "execute_result"
    }
   ],
   "source": [
    "page.data['image'][0]['descriptionshorturl']"
   ]
  },
  {
   "cell_type": "markdown",
   "metadata": {},
   "source": [
    "- Access the director key of the infobox attribute, which is a JSON object."
   ]
  },
  {
   "cell_type": "code",
   "execution_count": 16,
   "metadata": {},
   "outputs": [
    {
     "data": {
      "text/plain": [
       "'[[Steven Spielberg]]'"
      ]
     },
     "execution_count": 16,
     "metadata": {},
     "output_type": "execute_result"
    }
   ],
   "source": [
    "page.data['infobox']['director']"
   ]
  },
  {
   "cell_type": "markdown",
   "metadata": {},
   "source": [
    "## 4. Mashup: APIs, Downloading Files Programmatically, and JSON\n",
    "\n",
    "### Step 1: Call MediaWiki API (use wptools) to get the image urls\n",
    "\n",
    "### Step 2: Use the urls, programmatically download image into folder (bestofrt_posters)"
   ]
  },
  {
   "cell_type": "code",
   "execution_count": 26,
   "metadata": {
    "collapsed": true
   },
   "outputs": [],
   "source": [
    "import pandas as pd\n",
    "import wptools\n",
    "import os\n",
    "import requests\n",
    "from PIL import Image\n",
    "from io import BytesIO"
   ]
  },
  {
   "cell_type": "code",
   "execution_count": 27,
   "metadata": {
    "collapsed": true
   },
   "outputs": [],
   "source": [
    "# a list of all of the Wikipedia page titles in the Rotten Tomatoes Top 100 Movies \n",
    "title_list = [\n",
    " 'The_Wizard_of_Oz_(1939_film)',\n",
    " 'Citizen_Kane',\n",
    " 'The_Third_Man',\n",
    " 'Get_Out_(film)',\n",
    " 'Mad_Max:_Fury_Road',\n",
    " 'The_Cabinet_of_Dr._Caligari',\n",
    " 'All_About_Eve',\n",
    " 'Inside_Out_(2015_film)',\n",
    " 'The_Godfather',\n",
    " 'Metropolis_(1927_film)',\n",
    " 'E.T._the_Extra-Terrestrial',\n",
    " 'Modern_Times_(film)',\n",
    " 'It_Happened_One_Night',\n",
    " \"Singin'_in_the_Rain\",\n",
    " 'Boyhood_(film)',\n",
    " 'Casablanca_(film)',\n",
    " 'Moonlight_(2016_film)',\n",
    " 'Psycho_(1960_film)',\n",
    " 'Laura_(1944_film)',\n",
    " 'Nosferatu',\n",
    " 'Snow_White_and_the_Seven_Dwarfs_(1937_film)',\n",
    " \"A_Hard_Day%27s_Night_(film)\",\n",
    " 'La_Grande_Illusion',\n",
    " 'North_by_Northwest',\n",
    " 'The_Battle_of_Algiers',\n",
    " 'Dunkirk_(2017_film)',\n",
    " 'The_Maltese_Falcon_(1941_film)',\n",
    " 'Repulsion_(film)',\n",
    " '12_Years_a_Slave_(film)',\n",
    " 'Gravity_(2013_film)',\n",
    " 'Sunset_Boulevard_(film)',\n",
    " 'King_Kong_(1933_film)',\n",
    " 'Spotlight_(film)',\n",
    " 'The_Adventures_of_Robin_Hood',\n",
    " 'Rashomon',\n",
    " 'Rear_Window',\n",
    " 'Selma_(film)',\n",
    " 'Taxi_Driver',\n",
    " 'Toy_Story_3',\n",
    " 'Argo_(2012_film)',\n",
    " 'Toy_Story_2',\n",
    " 'The_Big_Sick',\n",
    " 'Bride_of_Frankenstein',\n",
    " 'Zootopia',\n",
    " 'M_(1931_film)',\n",
    " 'Wonder_Woman_(2017_film)',\n",
    " 'The_Philadelphia_Story_(film)',\n",
    " 'Alien_(film)',\n",
    " 'Bicycle_Thieves',\n",
    " 'Seven_Samurai',\n",
    " 'The_Treasure_of_the_Sierra_Madre_(film)',\n",
    " 'Up_(2009_film)',\n",
    " '12_Angry_Men_(1957_film)',\n",
    " 'The_400_Blows',\n",
    " 'Logan_(film)',\n",
    " 'All_Quiet_on_the_Western_Front_(1930_film)',\n",
    " 'Army_of_Shadows',\n",
    " 'Arrival_(film)',\n",
    " 'Baby_Driver',\n",
    " 'A_Streetcar_Named_Desire_(1951_film)',\n",
    " 'The_Night_of_the_Hunter_(film)',\n",
    " 'Star_Wars:_The_Force_Awakens',\n",
    " 'Manchester_by_the_Sea_(film)',\n",
    " 'Dr._Strangelove',\n",
    " 'Frankenstein_(1931_film)',\n",
    " 'Vertigo_(film)',\n",
    " 'The_Dark_Knight_(film)',\n",
    " 'Touch_of_Evil',\n",
    " 'The_Babadook',\n",
    " 'The_Conformist_(film)',\n",
    " 'Rebecca_(1940_film)',\n",
    " \"Rosemary%27s_Baby_(film)\",\n",
    " 'Finding_Nemo',\n",
    " 'Brooklyn_(film)',\n",
    " 'The_Wrestler_(2008_film)',\n",
    " 'The_39_Steps_(1935_film)',\n",
    " 'L.A._Confidential_(film)',\n",
    " 'Gone_with_the_Wind_(film)',\n",
    " 'The_Good,_the_Bad_and_the_Ugly',\n",
    " 'Skyfall',\n",
    " 'Rome,_Open_City',\n",
    " 'Tokyo_Story',\n",
    " 'Hell_or_High_Water_(film)',\n",
    " 'Pinocchio_(1940_film)',\n",
    " 'The_Jungle_Book_(2016_film)',\n",
    " 'La_La_Land_(film)',\n",
    " 'Star_Trek_(film)',\n",
    " 'High_Noon',\n",
    " 'Apocalypse_Now',\n",
    " 'On_the_Waterfront',\n",
    " 'The_Wages_of_Fear',\n",
    " 'The_Last_Picture_Show',\n",
    " 'Harry_Potter_and_the_Deathly_Hallows_–_Part_2',\n",
    " 'The_Grapes_of_Wrath_(film)',\n",
    " 'Roman_Holiday',\n",
    " 'Man_on_Wire',\n",
    " 'Jaws_(film)',\n",
    " 'Toy_Story',\n",
    " 'The_Godfather_Part_II',\n",
    " 'Battleship_Potemkin'\n",
    "]"
   ]
  },
  {
   "cell_type": "code",
   "execution_count": 28,
   "metadata": {
    "collapsed": true
   },
   "outputs": [],
   "source": [
    "folder_name = 'bestofrt_posters'\n",
    "# Make directory if it doesn't already exist\n",
    "if not os.path.exists(folder_name):\n",
    "    os.makedirs(folder_name)"
   ]
  },
  {
   "cell_type": "code",
   "execution_count": 29,
   "metadata": {},
   "outputs": [
    {
     "name": "stdout",
     "output_type": "stream",
     "text": [
      "1\n"
     ]
    },
    {
     "name": "stderr",
     "output_type": "stream",
     "text": [
      "API warning: {'extracts': {'warnings': 'HTML may be malformed and/or unbalanced and may omit inline images. Use at your own risk. Known problems are listed at https://www.mediawiki.org/wiki/Extension:TextExtracts#Caveats.'}}\n"
     ]
    },
    {
     "name": "stdout",
     "output_type": "stream",
     "text": [
      "2\n"
     ]
    },
    {
     "name": "stderr",
     "output_type": "stream",
     "text": [
      "API warning: {'extracts': {'warnings': 'HTML may be malformed and/or unbalanced and may omit inline images. Use at your own risk. Known problems are listed at https://www.mediawiki.org/wiki/Extension:TextExtracts#Caveats.'}}\n"
     ]
    },
    {
     "name": "stdout",
     "output_type": "stream",
     "text": [
      "3\n"
     ]
    },
    {
     "name": "stderr",
     "output_type": "stream",
     "text": [
      "API warning: {'extracts': {'warnings': 'HTML may be malformed and/or unbalanced and may omit inline images. Use at your own risk. Known problems are listed at https://www.mediawiki.org/wiki/Extension:TextExtracts#Caveats.'}}\n"
     ]
    },
    {
     "name": "stdout",
     "output_type": "stream",
     "text": [
      "4\n"
     ]
    },
    {
     "name": "stderr",
     "output_type": "stream",
     "text": [
      "API warning: {'extracts': {'warnings': 'HTML may be malformed and/or unbalanced and may omit inline images. Use at your own risk. Known problems are listed at https://www.mediawiki.org/wiki/Extension:TextExtracts#Caveats.'}}\n"
     ]
    },
    {
     "name": "stdout",
     "output_type": "stream",
     "text": [
      "5\n"
     ]
    },
    {
     "name": "stderr",
     "output_type": "stream",
     "text": [
      "API warning: {'extracts': {'warnings': 'HTML may be malformed and/or unbalanced and may omit inline images. Use at your own risk. Known problems are listed at https://www.mediawiki.org/wiki/Extension:TextExtracts#Caveats.'}}\n"
     ]
    },
    {
     "name": "stdout",
     "output_type": "stream",
     "text": [
      "6\n"
     ]
    },
    {
     "name": "stderr",
     "output_type": "stream",
     "text": [
      "API warning: {'extracts': {'warnings': 'HTML may be malformed and/or unbalanced and may omit inline images. Use at your own risk. Known problems are listed at https://www.mediawiki.org/wiki/Extension:TextExtracts#Caveats.'}}\n"
     ]
    },
    {
     "name": "stdout",
     "output_type": "stream",
     "text": [
      "7\n"
     ]
    },
    {
     "name": "stderr",
     "output_type": "stream",
     "text": [
      "API warning: {'extracts': {'warnings': 'HTML may be malformed and/or unbalanced and may omit inline images. Use at your own risk. Known problems are listed at https://www.mediawiki.org/wiki/Extension:TextExtracts#Caveats.'}}\n"
     ]
    },
    {
     "name": "stdout",
     "output_type": "stream",
     "text": [
      "8\n"
     ]
    },
    {
     "name": "stderr",
     "output_type": "stream",
     "text": [
      "API warning: {'extracts': {'warnings': 'HTML may be malformed and/or unbalanced and may omit inline images. Use at your own risk. Known problems are listed at https://www.mediawiki.org/wiki/Extension:TextExtracts#Caveats.'}}\n"
     ]
    },
    {
     "name": "stdout",
     "output_type": "stream",
     "text": [
      "9\n"
     ]
    },
    {
     "name": "stderr",
     "output_type": "stream",
     "text": [
      "API warning: {'extracts': {'warnings': 'HTML may be malformed and/or unbalanced and may omit inline images. Use at your own risk. Known problems are listed at https://www.mediawiki.org/wiki/Extension:TextExtracts#Caveats.'}}\n"
     ]
    },
    {
     "name": "stdout",
     "output_type": "stream",
     "text": [
      "10\n"
     ]
    },
    {
     "name": "stderr",
     "output_type": "stream",
     "text": [
      "API warning: {'extracts': {'warnings': 'HTML may be malformed and/or unbalanced and may omit inline images. Use at your own risk. Known problems are listed at https://www.mediawiki.org/wiki/Extension:TextExtracts#Caveats.'}}\n"
     ]
    },
    {
     "name": "stdout",
     "output_type": "stream",
     "text": [
      "11\n"
     ]
    },
    {
     "name": "stderr",
     "output_type": "stream",
     "text": [
      "API warning: {'extracts': {'warnings': 'HTML may be malformed and/or unbalanced and may omit inline images. Use at your own risk. Known problems are listed at https://www.mediawiki.org/wiki/Extension:TextExtracts#Caveats.'}}\n"
     ]
    },
    {
     "name": "stdout",
     "output_type": "stream",
     "text": [
      "12\n"
     ]
    },
    {
     "name": "stderr",
     "output_type": "stream",
     "text": [
      "API warning: {'extracts': {'warnings': 'HTML may be malformed and/or unbalanced and may omit inline images. Use at your own risk. Known problems are listed at https://www.mediawiki.org/wiki/Extension:TextExtracts#Caveats.'}}\n"
     ]
    },
    {
     "name": "stdout",
     "output_type": "stream",
     "text": [
      "13\n"
     ]
    },
    {
     "name": "stderr",
     "output_type": "stream",
     "text": [
      "API warning: {'extracts': {'warnings': 'HTML may be malformed and/or unbalanced and may omit inline images. Use at your own risk. Known problems are listed at https://www.mediawiki.org/wiki/Extension:TextExtracts#Caveats.'}}\n"
     ]
    },
    {
     "name": "stdout",
     "output_type": "stream",
     "text": [
      "14\n"
     ]
    },
    {
     "name": "stderr",
     "output_type": "stream",
     "text": [
      "API warning: {'extracts': {'warnings': 'HTML may be malformed and/or unbalanced and may omit inline images. Use at your own risk. Known problems are listed at https://www.mediawiki.org/wiki/Extension:TextExtracts#Caveats.'}}\n"
     ]
    },
    {
     "name": "stdout",
     "output_type": "stream",
     "text": [
      "15\n"
     ]
    },
    {
     "name": "stderr",
     "output_type": "stream",
     "text": [
      "API warning: {'extracts': {'warnings': 'HTML may be malformed and/or unbalanced and may omit inline images. Use at your own risk. Known problems are listed at https://www.mediawiki.org/wiki/Extension:TextExtracts#Caveats.'}}\n"
     ]
    },
    {
     "name": "stdout",
     "output_type": "stream",
     "text": [
      "16\n"
     ]
    },
    {
     "name": "stderr",
     "output_type": "stream",
     "text": [
      "API warning: {'extracts': {'warnings': 'HTML may be malformed and/or unbalanced and may omit inline images. Use at your own risk. Known problems are listed at https://www.mediawiki.org/wiki/Extension:TextExtracts#Caveats.'}}\n"
     ]
    },
    {
     "name": "stdout",
     "output_type": "stream",
     "text": [
      "17\n"
     ]
    },
    {
     "name": "stderr",
     "output_type": "stream",
     "text": [
      "API warning: {'extracts': {'warnings': 'HTML may be malformed and/or unbalanced and may omit inline images. Use at your own risk. Known problems are listed at https://www.mediawiki.org/wiki/Extension:TextExtracts#Caveats.'}}\n"
     ]
    },
    {
     "name": "stdout",
     "output_type": "stream",
     "text": [
      "18\n"
     ]
    },
    {
     "name": "stderr",
     "output_type": "stream",
     "text": [
      "API warning: {'extracts': {'warnings': 'HTML may be malformed and/or unbalanced and may omit inline images. Use at your own risk. Known problems are listed at https://www.mediawiki.org/wiki/Extension:TextExtracts#Caveats.'}}\n"
     ]
    },
    {
     "name": "stdout",
     "output_type": "stream",
     "text": [
      "19\n"
     ]
    },
    {
     "name": "stderr",
     "output_type": "stream",
     "text": [
      "API warning: {'extracts': {'warnings': 'HTML may be malformed and/or unbalanced and may omit inline images. Use at your own risk. Known problems are listed at https://www.mediawiki.org/wiki/Extension:TextExtracts#Caveats.'}}\n"
     ]
    },
    {
     "name": "stdout",
     "output_type": "stream",
     "text": [
      "20\n"
     ]
    },
    {
     "name": "stderr",
     "output_type": "stream",
     "text": [
      "API warning: {'extracts': {'warnings': 'HTML may be malformed and/or unbalanced and may omit inline images. Use at your own risk. Known problems are listed at https://www.mediawiki.org/wiki/Extension:TextExtracts#Caveats.'}}\n"
     ]
    },
    {
     "name": "stdout",
     "output_type": "stream",
     "text": [
      "21\n"
     ]
    },
    {
     "name": "stderr",
     "output_type": "stream",
     "text": [
      "API warning: {'extracts': {'warnings': 'HTML may be malformed and/or unbalanced and may omit inline images. Use at your own risk. Known problems are listed at https://www.mediawiki.org/wiki/Extension:TextExtracts#Caveats.'}}\n"
     ]
    },
    {
     "name": "stdout",
     "output_type": "stream",
     "text": [
      "22\n"
     ]
    },
    {
     "name": "stderr",
     "output_type": "stream",
     "text": [
      "API error: {'code': 'invalidtitle', 'info': 'Bad title \"A_Hard_Day%27s_Night_(film)\".', 'docref': 'See https://en.wikipedia.org/w/api.php for API usage. Subscribe to the mediawiki-api-announce mailing list at &lt;https://lists.wikimedia.org/mailman/listinfo/mediawiki-api-announce&gt; for notice of API deprecations and breaking changes.'}\n"
     ]
    },
    {
     "name": "stdout",
     "output_type": "stream",
     "text": [
      "22_A_Hard_Day%27s_Night_(film): https://en.wikipedia.org/w/api.php?action=parse&formatversion=2&contentmodel=text&disableeditsection=&disablelimitreport=&disabletoc=&prop=text|iwlinks|parsetree|wikitext|displaytitle|properties&redirects&page=A_Hard_Day%2527s_Night_%28film%29\n",
      "23\n"
     ]
    },
    {
     "name": "stderr",
     "output_type": "stream",
     "text": [
      "API warning: {'extracts': {'warnings': 'HTML may be malformed and/or unbalanced and may omit inline images. Use at your own risk. Known problems are listed at https://www.mediawiki.org/wiki/Extension:TextExtracts#Caveats.'}}\n"
     ]
    },
    {
     "name": "stdout",
     "output_type": "stream",
     "text": [
      "24\n"
     ]
    },
    {
     "name": "stderr",
     "output_type": "stream",
     "text": [
      "API warning: {'extracts': {'warnings': 'HTML may be malformed and/or unbalanced and may omit inline images. Use at your own risk. Known problems are listed at https://www.mediawiki.org/wiki/Extension:TextExtracts#Caveats.'}}\n"
     ]
    },
    {
     "name": "stdout",
     "output_type": "stream",
     "text": [
      "25\n"
     ]
    },
    {
     "name": "stderr",
     "output_type": "stream",
     "text": [
      "API warning: {'extracts': {'warnings': 'HTML may be malformed and/or unbalanced and may omit inline images. Use at your own risk. Known problems are listed at https://www.mediawiki.org/wiki/Extension:TextExtracts#Caveats.'}}\n"
     ]
    },
    {
     "name": "stdout",
     "output_type": "stream",
     "text": [
      "26\n"
     ]
    },
    {
     "name": "stderr",
     "output_type": "stream",
     "text": [
      "API warning: {'extracts': {'warnings': 'HTML may be malformed and/or unbalanced and may omit inline images. Use at your own risk. Known problems are listed at https://www.mediawiki.org/wiki/Extension:TextExtracts#Caveats.'}}\n"
     ]
    },
    {
     "name": "stdout",
     "output_type": "stream",
     "text": [
      "27\n"
     ]
    },
    {
     "name": "stderr",
     "output_type": "stream",
     "text": [
      "API warning: {'extracts': {'warnings': 'HTML may be malformed and/or unbalanced and may omit inline images. Use at your own risk. Known problems are listed at https://www.mediawiki.org/wiki/Extension:TextExtracts#Caveats.'}}\n"
     ]
    },
    {
     "name": "stdout",
     "output_type": "stream",
     "text": [
      "28\n"
     ]
    },
    {
     "name": "stderr",
     "output_type": "stream",
     "text": [
      "API warning: {'extracts': {'warnings': 'HTML may be malformed and/or unbalanced and may omit inline images. Use at your own risk. Known problems are listed at https://www.mediawiki.org/wiki/Extension:TextExtracts#Caveats.'}}\n"
     ]
    },
    {
     "name": "stdout",
     "output_type": "stream",
     "text": [
      "29\n"
     ]
    },
    {
     "name": "stderr",
     "output_type": "stream",
     "text": [
      "API warning: {'extracts': {'warnings': 'HTML may be malformed and/or unbalanced and may omit inline images. Use at your own risk. Known problems are listed at https://www.mediawiki.org/wiki/Extension:TextExtracts#Caveats.'}}\n"
     ]
    },
    {
     "name": "stdout",
     "output_type": "stream",
     "text": [
      "30\n"
     ]
    },
    {
     "name": "stderr",
     "output_type": "stream",
     "text": [
      "API warning: {'extracts': {'warnings': 'HTML may be malformed and/or unbalanced and may omit inline images. Use at your own risk. Known problems are listed at https://www.mediawiki.org/wiki/Extension:TextExtracts#Caveats.'}}\n"
     ]
    },
    {
     "name": "stdout",
     "output_type": "stream",
     "text": [
      "31\n"
     ]
    },
    {
     "name": "stderr",
     "output_type": "stream",
     "text": [
      "API warning: {'extracts': {'warnings': 'HTML may be malformed and/or unbalanced and may omit inline images. Use at your own risk. Known problems are listed at https://www.mediawiki.org/wiki/Extension:TextExtracts#Caveats.'}}\n"
     ]
    },
    {
     "name": "stdout",
     "output_type": "stream",
     "text": [
      "32\n"
     ]
    },
    {
     "name": "stderr",
     "output_type": "stream",
     "text": [
      "API warning: {'extracts': {'warnings': 'HTML may be malformed and/or unbalanced and may omit inline images. Use at your own risk. Known problems are listed at https://www.mediawiki.org/wiki/Extension:TextExtracts#Caveats.'}}\n"
     ]
    },
    {
     "name": "stdout",
     "output_type": "stream",
     "text": [
      "33\n"
     ]
    },
    {
     "name": "stderr",
     "output_type": "stream",
     "text": [
      "API warning: {'extracts': {'warnings': 'HTML may be malformed and/or unbalanced and may omit inline images. Use at your own risk. Known problems are listed at https://www.mediawiki.org/wiki/Extension:TextExtracts#Caveats.'}}\n"
     ]
    },
    {
     "name": "stdout",
     "output_type": "stream",
     "text": [
      "34\n"
     ]
    },
    {
     "name": "stderr",
     "output_type": "stream",
     "text": [
      "API warning: {'extracts': {'warnings': 'HTML may be malformed and/or unbalanced and may omit inline images. Use at your own risk. Known problems are listed at https://www.mediawiki.org/wiki/Extension:TextExtracts#Caveats.'}}\n"
     ]
    },
    {
     "name": "stdout",
     "output_type": "stream",
     "text": [
      "35\n"
     ]
    },
    {
     "name": "stderr",
     "output_type": "stream",
     "text": [
      "API warning: {'extracts': {'warnings': 'HTML may be malformed and/or unbalanced and may omit inline images. Use at your own risk. Known problems are listed at https://www.mediawiki.org/wiki/Extension:TextExtracts#Caveats.'}}\n"
     ]
    },
    {
     "name": "stdout",
     "output_type": "stream",
     "text": [
      "36\n"
     ]
    },
    {
     "name": "stderr",
     "output_type": "stream",
     "text": [
      "API warning: {'extracts': {'warnings': 'HTML may be malformed and/or unbalanced and may omit inline images. Use at your own risk. Known problems are listed at https://www.mediawiki.org/wiki/Extension:TextExtracts#Caveats.'}}\n"
     ]
    },
    {
     "name": "stdout",
     "output_type": "stream",
     "text": [
      "37\n"
     ]
    },
    {
     "name": "stderr",
     "output_type": "stream",
     "text": [
      "API warning: {'extracts': {'warnings': 'HTML may be malformed and/or unbalanced and may omit inline images. Use at your own risk. Known problems are listed at https://www.mediawiki.org/wiki/Extension:TextExtracts#Caveats.'}}\n"
     ]
    },
    {
     "name": "stdout",
     "output_type": "stream",
     "text": [
      "38\n"
     ]
    },
    {
     "name": "stderr",
     "output_type": "stream",
     "text": [
      "API warning: {'extracts': {'warnings': 'HTML may be malformed and/or unbalanced and may omit inline images. Use at your own risk. Known problems are listed at https://www.mediawiki.org/wiki/Extension:TextExtracts#Caveats.'}}\n"
     ]
    },
    {
     "name": "stdout",
     "output_type": "stream",
     "text": [
      "39\n"
     ]
    },
    {
     "name": "stderr",
     "output_type": "stream",
     "text": [
      "API warning: {'extracts': {'warnings': 'HTML may be malformed and/or unbalanced and may omit inline images. Use at your own risk. Known problems are listed at https://www.mediawiki.org/wiki/Extension:TextExtracts#Caveats.'}}\n"
     ]
    },
    {
     "name": "stdout",
     "output_type": "stream",
     "text": [
      "40\n"
     ]
    },
    {
     "name": "stderr",
     "output_type": "stream",
     "text": [
      "API warning: {'extracts': {'warnings': 'HTML may be malformed and/or unbalanced and may omit inline images. Use at your own risk. Known problems are listed at https://www.mediawiki.org/wiki/Extension:TextExtracts#Caveats.'}}\n"
     ]
    },
    {
     "name": "stdout",
     "output_type": "stream",
     "text": [
      "41\n"
     ]
    },
    {
     "name": "stderr",
     "output_type": "stream",
     "text": [
      "API warning: {'extracts': {'warnings': 'HTML may be malformed and/or unbalanced and may omit inline images. Use at your own risk. Known problems are listed at https://www.mediawiki.org/wiki/Extension:TextExtracts#Caveats.'}}\n"
     ]
    },
    {
     "name": "stdout",
     "output_type": "stream",
     "text": [
      "42\n"
     ]
    },
    {
     "name": "stderr",
     "output_type": "stream",
     "text": [
      "API warning: {'extracts': {'warnings': 'HTML may be malformed and/or unbalanced and may omit inline images. Use at your own risk. Known problems are listed at https://www.mediawiki.org/wiki/Extension:TextExtracts#Caveats.'}}\n"
     ]
    },
    {
     "name": "stdout",
     "output_type": "stream",
     "text": [
      "43\n"
     ]
    },
    {
     "name": "stderr",
     "output_type": "stream",
     "text": [
      "API warning: {'extracts': {'warnings': 'HTML may be malformed and/or unbalanced and may omit inline images. Use at your own risk. Known problems are listed at https://www.mediawiki.org/wiki/Extension:TextExtracts#Caveats.'}}\n"
     ]
    },
    {
     "name": "stdout",
     "output_type": "stream",
     "text": [
      "44\n"
     ]
    },
    {
     "name": "stderr",
     "output_type": "stream",
     "text": [
      "API warning: {'extracts': {'warnings': 'HTML may be malformed and/or unbalanced and may omit inline images. Use at your own risk. Known problems are listed at https://www.mediawiki.org/wiki/Extension:TextExtracts#Caveats.'}}\n"
     ]
    },
    {
     "name": "stdout",
     "output_type": "stream",
     "text": [
      "45\n"
     ]
    },
    {
     "name": "stderr",
     "output_type": "stream",
     "text": [
      "API warning: {'extracts': {'warnings': 'HTML may be malformed and/or unbalanced and may omit inline images. Use at your own risk. Known problems are listed at https://www.mediawiki.org/wiki/Extension:TextExtracts#Caveats.'}}\n"
     ]
    },
    {
     "name": "stdout",
     "output_type": "stream",
     "text": [
      "46\n"
     ]
    },
    {
     "name": "stderr",
     "output_type": "stream",
     "text": [
      "API warning: {'extracts': {'warnings': 'HTML may be malformed and/or unbalanced and may omit inline images. Use at your own risk. Known problems are listed at https://www.mediawiki.org/wiki/Extension:TextExtracts#Caveats.'}}\n"
     ]
    },
    {
     "name": "stdout",
     "output_type": "stream",
     "text": [
      "47\n"
     ]
    },
    {
     "name": "stderr",
     "output_type": "stream",
     "text": [
      "API warning: {'extracts': {'warnings': 'HTML may be malformed and/or unbalanced and may omit inline images. Use at your own risk. Known problems are listed at https://www.mediawiki.org/wiki/Extension:TextExtracts#Caveats.'}}\n"
     ]
    },
    {
     "name": "stdout",
     "output_type": "stream",
     "text": [
      "48\n"
     ]
    },
    {
     "name": "stderr",
     "output_type": "stream",
     "text": [
      "API warning: {'extracts': {'warnings': 'HTML may be malformed and/or unbalanced and may omit inline images. Use at your own risk. Known problems are listed at https://www.mediawiki.org/wiki/Extension:TextExtracts#Caveats.'}}\n"
     ]
    },
    {
     "name": "stdout",
     "output_type": "stream",
     "text": [
      "49\n"
     ]
    },
    {
     "name": "stderr",
     "output_type": "stream",
     "text": [
      "API warning: {'extracts': {'warnings': 'HTML may be malformed and/or unbalanced and may omit inline images. Use at your own risk. Known problems are listed at https://www.mediawiki.org/wiki/Extension:TextExtracts#Caveats.'}}\n"
     ]
    },
    {
     "name": "stdout",
     "output_type": "stream",
     "text": [
      "50\n"
     ]
    },
    {
     "name": "stderr",
     "output_type": "stream",
     "text": [
      "API warning: {'extracts': {'warnings': 'HTML may be malformed and/or unbalanced and may omit inline images. Use at your own risk. Known problems are listed at https://www.mediawiki.org/wiki/Extension:TextExtracts#Caveats.'}}\n"
     ]
    },
    {
     "name": "stdout",
     "output_type": "stream",
     "text": [
      "51\n"
     ]
    },
    {
     "name": "stderr",
     "output_type": "stream",
     "text": [
      "API warning: {'extracts': {'warnings': 'HTML may be malformed and/or unbalanced and may omit inline images. Use at your own risk. Known problems are listed at https://www.mediawiki.org/wiki/Extension:TextExtracts#Caveats.'}}\n"
     ]
    },
    {
     "name": "stdout",
     "output_type": "stream",
     "text": [
      "52\n"
     ]
    },
    {
     "name": "stderr",
     "output_type": "stream",
     "text": [
      "API warning: {'extracts': {'warnings': 'HTML may be malformed and/or unbalanced and may omit inline images. Use at your own risk. Known problems are listed at https://www.mediawiki.org/wiki/Extension:TextExtracts#Caveats.'}}\n"
     ]
    },
    {
     "name": "stdout",
     "output_type": "stream",
     "text": [
      "53\n"
     ]
    },
    {
     "name": "stderr",
     "output_type": "stream",
     "text": [
      "API warning: {'extracts': {'warnings': 'HTML may be malformed and/or unbalanced and may omit inline images. Use at your own risk. Known problems are listed at https://www.mediawiki.org/wiki/Extension:TextExtracts#Caveats.'}}\n"
     ]
    },
    {
     "name": "stdout",
     "output_type": "stream",
     "text": [
      "53_12_Angry_Men_(1957_film): cannot identify image file <_io.BytesIO object at 0x11505cd58>\n",
      "54\n"
     ]
    },
    {
     "name": "stderr",
     "output_type": "stream",
     "text": [
      "API warning: {'extracts': {'warnings': 'HTML may be malformed and/or unbalanced and may omit inline images. Use at your own risk. Known problems are listed at https://www.mediawiki.org/wiki/Extension:TextExtracts#Caveats.'}}\n"
     ]
    },
    {
     "name": "stdout",
     "output_type": "stream",
     "text": [
      "55\n"
     ]
    },
    {
     "name": "stderr",
     "output_type": "stream",
     "text": [
      "API warning: {'extracts': {'warnings': 'HTML may be malformed and/or unbalanced and may omit inline images. Use at your own risk. Known problems are listed at https://www.mediawiki.org/wiki/Extension:TextExtracts#Caveats.'}}\n"
     ]
    },
    {
     "name": "stdout",
     "output_type": "stream",
     "text": [
      "55_Logan_(film): 'image'\n",
      "56\n"
     ]
    },
    {
     "name": "stderr",
     "output_type": "stream",
     "text": [
      "API warning: {'extracts': {'warnings': 'HTML may be malformed and/or unbalanced and may omit inline images. Use at your own risk. Known problems are listed at https://www.mediawiki.org/wiki/Extension:TextExtracts#Caveats.'}}\n"
     ]
    },
    {
     "name": "stdout",
     "output_type": "stream",
     "text": [
      "57\n"
     ]
    },
    {
     "name": "stderr",
     "output_type": "stream",
     "text": [
      "API warning: {'extracts': {'warnings': 'HTML may be malformed and/or unbalanced and may omit inline images. Use at your own risk. Known problems are listed at https://www.mediawiki.org/wiki/Extension:TextExtracts#Caveats.'}}\n"
     ]
    },
    {
     "name": "stdout",
     "output_type": "stream",
     "text": [
      "58\n"
     ]
    },
    {
     "name": "stderr",
     "output_type": "stream",
     "text": [
      "API warning: {'extracts': {'warnings': 'HTML may be malformed and/or unbalanced and may omit inline images. Use at your own risk. Known problems are listed at https://www.mediawiki.org/wiki/Extension:TextExtracts#Caveats.'}}\n"
     ]
    },
    {
     "name": "stdout",
     "output_type": "stream",
     "text": [
      "59\n"
     ]
    },
    {
     "name": "stderr",
     "output_type": "stream",
     "text": [
      "API warning: {'extracts': {'warnings': 'HTML may be malformed and/or unbalanced and may omit inline images. Use at your own risk. Known problems are listed at https://www.mediawiki.org/wiki/Extension:TextExtracts#Caveats.'}}\n"
     ]
    },
    {
     "name": "stdout",
     "output_type": "stream",
     "text": [
      "60\n"
     ]
    },
    {
     "name": "stderr",
     "output_type": "stream",
     "text": [
      "API warning: {'extracts': {'warnings': 'HTML may be malformed and/or unbalanced and may omit inline images. Use at your own risk. Known problems are listed at https://www.mediawiki.org/wiki/Extension:TextExtracts#Caveats.'}}\n"
     ]
    },
    {
     "name": "stdout",
     "output_type": "stream",
     "text": [
      "61\n"
     ]
    },
    {
     "name": "stderr",
     "output_type": "stream",
     "text": [
      "API warning: {'extracts': {'warnings': 'HTML may be malformed and/or unbalanced and may omit inline images. Use at your own risk. Known problems are listed at https://www.mediawiki.org/wiki/Extension:TextExtracts#Caveats.'}}\n"
     ]
    },
    {
     "name": "stdout",
     "output_type": "stream",
     "text": [
      "62\n"
     ]
    },
    {
     "name": "stderr",
     "output_type": "stream",
     "text": [
      "API warning: {'extracts': {'warnings': 'HTML may be malformed and/or unbalanced and may omit inline images. Use at your own risk. Known problems are listed at https://www.mediawiki.org/wiki/Extension:TextExtracts#Caveats.'}}\n"
     ]
    },
    {
     "name": "stdout",
     "output_type": "stream",
     "text": [
      "63\n"
     ]
    },
    {
     "name": "stderr",
     "output_type": "stream",
     "text": [
      "API warning: {'extracts': {'warnings': 'HTML may be malformed and/or unbalanced and may omit inline images. Use at your own risk. Known problems are listed at https://www.mediawiki.org/wiki/Extension:TextExtracts#Caveats.'}}\n"
     ]
    },
    {
     "name": "stdout",
     "output_type": "stream",
     "text": [
      "64\n"
     ]
    },
    {
     "name": "stderr",
     "output_type": "stream",
     "text": [
      "API warning: {'extracts': {'warnings': 'HTML may be malformed and/or unbalanced and may omit inline images. Use at your own risk. Known problems are listed at https://www.mediawiki.org/wiki/Extension:TextExtracts#Caveats.'}}\n"
     ]
    },
    {
     "name": "stdout",
     "output_type": "stream",
     "text": [
      "64_Dr._Strangelove: cannot identify image file <_io.BytesIO object at 0x115288780>\n",
      "65\n"
     ]
    },
    {
     "name": "stderr",
     "output_type": "stream",
     "text": [
      "API warning: {'extracts': {'warnings': 'HTML may be malformed and/or unbalanced and may omit inline images. Use at your own risk. Known problems are listed at https://www.mediawiki.org/wiki/Extension:TextExtracts#Caveats.'}}\n"
     ]
    },
    {
     "name": "stdout",
     "output_type": "stream",
     "text": [
      "66\n"
     ]
    },
    {
     "name": "stderr",
     "output_type": "stream",
     "text": [
      "API warning: {'extracts': {'warnings': 'HTML may be malformed and/or unbalanced and may omit inline images. Use at your own risk. Known problems are listed at https://www.mediawiki.org/wiki/Extension:TextExtracts#Caveats.'}}\n"
     ]
    },
    {
     "name": "stdout",
     "output_type": "stream",
     "text": [
      "67\n"
     ]
    },
    {
     "name": "stderr",
     "output_type": "stream",
     "text": [
      "API warning: {'extracts': {'warnings': 'HTML may be malformed and/or unbalanced and may omit inline images. Use at your own risk. Known problems are listed at https://www.mediawiki.org/wiki/Extension:TextExtracts#Caveats.'}}\n"
     ]
    },
    {
     "name": "stdout",
     "output_type": "stream",
     "text": [
      "68\n"
     ]
    },
    {
     "name": "stderr",
     "output_type": "stream",
     "text": [
      "API warning: {'extracts': {'warnings': 'HTML may be malformed and/or unbalanced and may omit inline images. Use at your own risk. Known problems are listed at https://www.mediawiki.org/wiki/Extension:TextExtracts#Caveats.'}}\n"
     ]
    },
    {
     "name": "stdout",
     "output_type": "stream",
     "text": [
      "69\n"
     ]
    },
    {
     "name": "stderr",
     "output_type": "stream",
     "text": [
      "API warning: {'extracts': {'warnings': 'HTML may be malformed and/or unbalanced and may omit inline images. Use at your own risk. Known problems are listed at https://www.mediawiki.org/wiki/Extension:TextExtracts#Caveats.'}}\n"
     ]
    },
    {
     "name": "stdout",
     "output_type": "stream",
     "text": [
      "70\n"
     ]
    },
    {
     "name": "stderr",
     "output_type": "stream",
     "text": [
      "API warning: {'extracts': {'warnings': 'HTML may be malformed and/or unbalanced and may omit inline images. Use at your own risk. Known problems are listed at https://www.mediawiki.org/wiki/Extension:TextExtracts#Caveats.'}}\n"
     ]
    },
    {
     "name": "stdout",
     "output_type": "stream",
     "text": [
      "71\n"
     ]
    },
    {
     "name": "stderr",
     "output_type": "stream",
     "text": [
      "API warning: {'extracts': {'warnings': 'HTML may be malformed and/or unbalanced and may omit inline images. Use at your own risk. Known problems are listed at https://www.mediawiki.org/wiki/Extension:TextExtracts#Caveats.'}}\n"
     ]
    },
    {
     "name": "stdout",
     "output_type": "stream",
     "text": [
      "72\n"
     ]
    },
    {
     "name": "stderr",
     "output_type": "stream",
     "text": [
      "API error: {'code': 'invalidtitle', 'info': 'Bad title \"Rosemary%27s_Baby_(film)\".', 'docref': 'See https://en.wikipedia.org/w/api.php for API usage. Subscribe to the mediawiki-api-announce mailing list at &lt;https://lists.wikimedia.org/mailman/listinfo/mediawiki-api-announce&gt; for notice of API deprecations and breaking changes.'}\n"
     ]
    },
    {
     "name": "stdout",
     "output_type": "stream",
     "text": [
      "72_Rosemary%27s_Baby_(film): https://en.wikipedia.org/w/api.php?action=parse&formatversion=2&contentmodel=text&disableeditsection=&disablelimitreport=&disabletoc=&prop=text|iwlinks|parsetree|wikitext|displaytitle|properties&redirects&page=Rosemary%2527s_Baby_%28film%29\n",
      "73\n"
     ]
    },
    {
     "name": "stderr",
     "output_type": "stream",
     "text": [
      "API warning: {'extracts': {'warnings': 'HTML may be malformed and/or unbalanced and may omit inline images. Use at your own risk. Known problems are listed at https://www.mediawiki.org/wiki/Extension:TextExtracts#Caveats.'}}\n"
     ]
    },
    {
     "name": "stdout",
     "output_type": "stream",
     "text": [
      "74\n"
     ]
    },
    {
     "name": "stderr",
     "output_type": "stream",
     "text": [
      "API warning: {'extracts': {'warnings': 'HTML may be malformed and/or unbalanced and may omit inline images. Use at your own risk. Known problems are listed at https://www.mediawiki.org/wiki/Extension:TextExtracts#Caveats.'}}\n"
     ]
    },
    {
     "name": "stdout",
     "output_type": "stream",
     "text": [
      "75\n"
     ]
    },
    {
     "name": "stderr",
     "output_type": "stream",
     "text": [
      "API warning: {'extracts': {'warnings': 'HTML may be malformed and/or unbalanced and may omit inline images. Use at your own risk. Known problems are listed at https://www.mediawiki.org/wiki/Extension:TextExtracts#Caveats.'}}\n"
     ]
    },
    {
     "name": "stdout",
     "output_type": "stream",
     "text": [
      "76\n"
     ]
    },
    {
     "name": "stderr",
     "output_type": "stream",
     "text": [
      "API warning: {'extracts': {'warnings': 'HTML may be malformed and/or unbalanced and may omit inline images. Use at your own risk. Known problems are listed at https://www.mediawiki.org/wiki/Extension:TextExtracts#Caveats.'}}\n"
     ]
    },
    {
     "name": "stdout",
     "output_type": "stream",
     "text": [
      "77\n"
     ]
    },
    {
     "name": "stderr",
     "output_type": "stream",
     "text": [
      "API warning: {'extracts': {'warnings': 'HTML may be malformed and/or unbalanced and may omit inline images. Use at your own risk. Known problems are listed at https://www.mediawiki.org/wiki/Extension:TextExtracts#Caveats.'}}\n"
     ]
    },
    {
     "name": "stdout",
     "output_type": "stream",
     "text": [
      "78\n"
     ]
    },
    {
     "name": "stderr",
     "output_type": "stream",
     "text": [
      "API warning: {'extracts': {'warnings': 'HTML may be malformed and/or unbalanced and may omit inline images. Use at your own risk. Known problems are listed at https://www.mediawiki.org/wiki/Extension:TextExtracts#Caveats.'}}\n"
     ]
    },
    {
     "name": "stdout",
     "output_type": "stream",
     "text": [
      "79\n"
     ]
    },
    {
     "name": "stderr",
     "output_type": "stream",
     "text": [
      "API warning: {'extracts': {'warnings': 'HTML may be malformed and/or unbalanced and may omit inline images. Use at your own risk. Known problems are listed at https://www.mediawiki.org/wiki/Extension:TextExtracts#Caveats.'}}\n"
     ]
    },
    {
     "name": "stdout",
     "output_type": "stream",
     "text": [
      "80\n"
     ]
    },
    {
     "name": "stderr",
     "output_type": "stream",
     "text": [
      "API warning: {'extracts': {'warnings': 'HTML may be malformed and/or unbalanced and may omit inline images. Use at your own risk. Known problems are listed at https://www.mediawiki.org/wiki/Extension:TextExtracts#Caveats.'}}\n"
     ]
    },
    {
     "name": "stdout",
     "output_type": "stream",
     "text": [
      "81\n"
     ]
    },
    {
     "name": "stderr",
     "output_type": "stream",
     "text": [
      "API warning: {'extracts': {'warnings': 'HTML may be malformed and/or unbalanced and may omit inline images. Use at your own risk. Known problems are listed at https://www.mediawiki.org/wiki/Extension:TextExtracts#Caveats.'}}\n"
     ]
    },
    {
     "name": "stdout",
     "output_type": "stream",
     "text": [
      "82\n"
     ]
    },
    {
     "name": "stderr",
     "output_type": "stream",
     "text": [
      "API warning: {'extracts': {'warnings': 'HTML may be malformed and/or unbalanced and may omit inline images. Use at your own risk. Known problems are listed at https://www.mediawiki.org/wiki/Extension:TextExtracts#Caveats.'}}\n"
     ]
    },
    {
     "name": "stdout",
     "output_type": "stream",
     "text": [
      "83\n"
     ]
    },
    {
     "name": "stderr",
     "output_type": "stream",
     "text": [
      "API warning: {'extracts': {'warnings': 'HTML may be malformed and/or unbalanced and may omit inline images. Use at your own risk. Known problems are listed at https://www.mediawiki.org/wiki/Extension:TextExtracts#Caveats.'}}\n"
     ]
    },
    {
     "name": "stdout",
     "output_type": "stream",
     "text": [
      "84\n"
     ]
    },
    {
     "name": "stderr",
     "output_type": "stream",
     "text": [
      "API warning: {'extracts': {'warnings': 'HTML may be malformed and/or unbalanced and may omit inline images. Use at your own risk. Known problems are listed at https://www.mediawiki.org/wiki/Extension:TextExtracts#Caveats.'}}\n"
     ]
    },
    {
     "name": "stdout",
     "output_type": "stream",
     "text": [
      "85\n"
     ]
    },
    {
     "name": "stderr",
     "output_type": "stream",
     "text": [
      "API warning: {'extracts': {'warnings': 'HTML may be malformed and/or unbalanced and may omit inline images. Use at your own risk. Known problems are listed at https://www.mediawiki.org/wiki/Extension:TextExtracts#Caveats.'}}\n"
     ]
    },
    {
     "name": "stdout",
     "output_type": "stream",
     "text": [
      "86\n"
     ]
    },
    {
     "name": "stderr",
     "output_type": "stream",
     "text": [
      "API warning: {'extracts': {'warnings': 'HTML may be malformed and/or unbalanced and may omit inline images. Use at your own risk. Known problems are listed at https://www.mediawiki.org/wiki/Extension:TextExtracts#Caveats.'}}\n"
     ]
    },
    {
     "name": "stdout",
     "output_type": "stream",
     "text": [
      "87\n"
     ]
    },
    {
     "name": "stderr",
     "output_type": "stream",
     "text": [
      "API warning: {'extracts': {'warnings': 'HTML may be malformed and/or unbalanced and may omit inline images. Use at your own risk. Known problems are listed at https://www.mediawiki.org/wiki/Extension:TextExtracts#Caveats.'}}\n"
     ]
    },
    {
     "name": "stdout",
     "output_type": "stream",
     "text": [
      "88\n"
     ]
    },
    {
     "name": "stderr",
     "output_type": "stream",
     "text": [
      "API warning: {'extracts': {'warnings': 'HTML may be malformed and/or unbalanced and may omit inline images. Use at your own risk. Known problems are listed at https://www.mediawiki.org/wiki/Extension:TextExtracts#Caveats.'}}\n"
     ]
    },
    {
     "name": "stdout",
     "output_type": "stream",
     "text": [
      "89\n"
     ]
    },
    {
     "name": "stderr",
     "output_type": "stream",
     "text": [
      "API warning: {'extracts': {'warnings': 'HTML may be malformed and/or unbalanced and may omit inline images. Use at your own risk. Known problems are listed at https://www.mediawiki.org/wiki/Extension:TextExtracts#Caveats.'}}\n"
     ]
    },
    {
     "name": "stdout",
     "output_type": "stream",
     "text": [
      "90\n"
     ]
    },
    {
     "name": "stderr",
     "output_type": "stream",
     "text": [
      "API warning: {'extracts': {'warnings': 'HTML may be malformed and/or unbalanced and may omit inline images. Use at your own risk. Known problems are listed at https://www.mediawiki.org/wiki/Extension:TextExtracts#Caveats.'}}\n"
     ]
    },
    {
     "name": "stdout",
     "output_type": "stream",
     "text": [
      "91\n"
     ]
    },
    {
     "name": "stderr",
     "output_type": "stream",
     "text": [
      "API warning: {'extracts': {'warnings': 'HTML may be malformed and/or unbalanced and may omit inline images. Use at your own risk. Known problems are listed at https://www.mediawiki.org/wiki/Extension:TextExtracts#Caveats.'}}\n"
     ]
    },
    {
     "name": "stdout",
     "output_type": "stream",
     "text": [
      "92\n"
     ]
    },
    {
     "name": "stderr",
     "output_type": "stream",
     "text": [
      "API warning: {'extracts': {'warnings': 'HTML may be malformed and/or unbalanced and may omit inline images. Use at your own risk. Known problems are listed at https://www.mediawiki.org/wiki/Extension:TextExtracts#Caveats.'}}\n"
     ]
    },
    {
     "name": "stdout",
     "output_type": "stream",
     "text": [
      "93\n"
     ]
    },
    {
     "name": "stderr",
     "output_type": "stream",
     "text": [
      "API warning: {'extracts': {'warnings': 'HTML may be malformed and/or unbalanced and may omit inline images. Use at your own risk. Known problems are listed at https://www.mediawiki.org/wiki/Extension:TextExtracts#Caveats.'}}\n"
     ]
    },
    {
     "name": "stdout",
     "output_type": "stream",
     "text": [
      "94\n"
     ]
    },
    {
     "name": "stderr",
     "output_type": "stream",
     "text": [
      "API warning: {'extracts': {'warnings': 'HTML may be malformed and/or unbalanced and may omit inline images. Use at your own risk. Known problems are listed at https://www.mediawiki.org/wiki/Extension:TextExtracts#Caveats.'}}\n"
     ]
    },
    {
     "name": "stdout",
     "output_type": "stream",
     "text": [
      "95\n"
     ]
    },
    {
     "name": "stderr",
     "output_type": "stream",
     "text": [
      "API warning: {'extracts': {'warnings': 'HTML may be malformed and/or unbalanced and may omit inline images. Use at your own risk. Known problems are listed at https://www.mediawiki.org/wiki/Extension:TextExtracts#Caveats.'}}\n"
     ]
    },
    {
     "name": "stdout",
     "output_type": "stream",
     "text": [
      "96\n"
     ]
    },
    {
     "name": "stderr",
     "output_type": "stream",
     "text": [
      "API warning: {'extracts': {'warnings': 'HTML may be malformed and/or unbalanced and may omit inline images. Use at your own risk. Known problems are listed at https://www.mediawiki.org/wiki/Extension:TextExtracts#Caveats.'}}\n"
     ]
    },
    {
     "name": "stdout",
     "output_type": "stream",
     "text": [
      "97\n"
     ]
    },
    {
     "name": "stderr",
     "output_type": "stream",
     "text": [
      "API warning: {'extracts': {'warnings': 'HTML may be malformed and/or unbalanced and may omit inline images. Use at your own risk. Known problems are listed at https://www.mediawiki.org/wiki/Extension:TextExtracts#Caveats.'}}\n"
     ]
    },
    {
     "name": "stdout",
     "output_type": "stream",
     "text": [
      "98\n"
     ]
    },
    {
     "name": "stderr",
     "output_type": "stream",
     "text": [
      "API warning: {'extracts': {'warnings': 'HTML may be malformed and/or unbalanced and may omit inline images. Use at your own risk. Known problems are listed at https://www.mediawiki.org/wiki/Extension:TextExtracts#Caveats.'}}\n"
     ]
    },
    {
     "name": "stdout",
     "output_type": "stream",
     "text": [
      "99\n"
     ]
    },
    {
     "name": "stderr",
     "output_type": "stream",
     "text": [
      "API warning: {'extracts': {'warnings': 'HTML may be malformed and/or unbalanced and may omit inline images. Use at your own risk. Known problems are listed at https://www.mediawiki.org/wiki/Extension:TextExtracts#Caveats.'}}\n"
     ]
    },
    {
     "name": "stdout",
     "output_type": "stream",
     "text": [
      "100\n"
     ]
    },
    {
     "name": "stderr",
     "output_type": "stream",
     "text": [
      "API warning: {'extracts': {'warnings': 'HTML may be malformed and/or unbalanced and may omit inline images. Use at your own risk. Known problems are listed at https://www.mediawiki.org/wiki/Extension:TextExtracts#Caveats.'}}\n"
     ]
    }
   ],
   "source": [
    "# List of dictionaries to build and convert to a DataFrame later\n",
    "df_list = []\n",
    "image_errors = {}\n",
    "for title in title_list:\n",
    "    try:\n",
    "        # This cell is slow so print ranking to gauge time remaining\n",
    "        ranking = title_list.index(title) + 1\n",
    "        print(ranking)\n",
    "        \n",
    "        # get the url \n",
    "        page = wptools.page(title, silent=True)\n",
    "        images = page.get().data['image']\n",
    "        first_image_url = images[0]['url']\n",
    "        \n",
    "        # get the url info donwloaded\n",
    "        r = requests.get(first_image_url)\n",
    "        \n",
    "        # Download movie poster image\n",
    "        i = Image.open(BytesIO(r.content))\n",
    "        image_file_format = first_image_url.split('.')[-1]\n",
    "        i.save(folder_name + \"/\" + str(ranking) + \"_\" + title + '.' + image_file_format)\n",
    "        \n",
    "        # Append to list of dictionaries\n",
    "        df_list.append({'ranking': int(ranking),\n",
    "                        'title': title,\n",
    "                        'poster_url': first_image_url})\n",
    "    \n",
    "    # Not best practice to catch all exceptions but fine for this short script\n",
    "    except Exception as e:\n",
    "        print(str(ranking) + \"_\" + title + \": \" + str(e))\n",
    "        image_errors[str(ranking) + \"_\" + title] = images"
   ]
  },
  {
   "cell_type": "code",
   "execution_count": 30,
   "metadata": {},
   "outputs": [
    {
     "name": "stdout",
     "output_type": "stream",
     "text": [
      "22_A_Hard_Day%27s_Night_(film)\n",
      "53_12_Angry_Men_(1957_film)\n",
      "55_Logan_(film)\n",
      "64_Dr._Strangelove\n",
      "72_Rosemary%27s_Baby_(film)\n"
     ]
    }
   ],
   "source": [
    "for key in image_errors.keys():\n",
    "    print(key)"
   ]
  },
  {
   "cell_type": "code",
   "execution_count": 31,
   "metadata": {
    "collapsed": true
   },
   "outputs": [],
   "source": [
    "# Inspect unidentifiable images and download them individually\n",
    "for rank_title, images in image_errors.items():\n",
    "    if rank_title == '22_A_Hard_Day%27s_Night_(film)':\n",
    "        url = 'https://upload.wikimedia.org/wikipedia/en/4/47/A_Hard_Days_night_movieposter.jpg'\n",
    "    if rank_title == '53_12_Angry_Men_(1957_film)':\n",
    "        url = 'https://upload.wikimedia.org/wikipedia/en/9/91/12_angry_men.jpg'\n",
    "    if rank_title == '72_Rosemary%27s_Baby_(film)':\n",
    "        url = 'https://upload.wikimedia.org/wikipedia/en/e/ef/Rosemarys_baby_poster.jpg'\n",
    "    if rank_title == '93_Harry_Potter_and_the_Deathly_Hallows_–_Part_2':\n",
    "        url = 'https://upload.wikimedia.org/wikipedia/en/d/df/Harry_Potter_and_the_Deathly_Hallows_%E2%80%93_Part_2.jpg'\n",
    "    title = rank_title[3:]\n",
    "    df_list.append({'ranking': int(title_list.index(title) + 1),\n",
    "                    'title': title,\n",
    "                    'poster_url': url})\n",
    "    \n",
    "    r = requests.get(url)\n",
    "    \n",
    "    # Download movie poster image\n",
    "    i = Image.open(BytesIO(r.content))\n",
    "    image_file_format = url.split('.')[-1]\n",
    "    i.save(folder_name + \"/\" + rank_title + '.' + image_file_format)"
   ]
  },
  {
   "cell_type": "code",
   "execution_count": 32,
   "metadata": {},
   "outputs": [
    {
     "data": {
      "text/html": [
       "<div>\n",
       "<style>\n",
       "    .dataframe thead tr:only-child th {\n",
       "        text-align: right;\n",
       "    }\n",
       "\n",
       "    .dataframe thead th {\n",
       "        text-align: left;\n",
       "    }\n",
       "\n",
       "    .dataframe tbody tr th {\n",
       "        vertical-align: top;\n",
       "    }\n",
       "</style>\n",
       "<table border=\"1\" class=\"dataframe\">\n",
       "  <thead>\n",
       "    <tr style=\"text-align: right;\">\n",
       "      <th></th>\n",
       "      <th>ranking</th>\n",
       "      <th>title</th>\n",
       "      <th>poster_url</th>\n",
       "    </tr>\n",
       "  </thead>\n",
       "  <tbody>\n",
       "    <tr>\n",
       "      <th>0</th>\n",
       "      <td>1</td>\n",
       "      <td>The_Wizard_of_Oz_(1939_film)</td>\n",
       "      <td>https://upload.wikimedia.org/wikipedia/commons...</td>\n",
       "    </tr>\n",
       "    <tr>\n",
       "      <th>1</th>\n",
       "      <td>2</td>\n",
       "      <td>Citizen_Kane</td>\n",
       "      <td>https://upload.wikimedia.org/wikipedia/en/c/ce...</td>\n",
       "    </tr>\n",
       "    <tr>\n",
       "      <th>2</th>\n",
       "      <td>3</td>\n",
       "      <td>The_Third_Man</td>\n",
       "      <td>https://upload.wikimedia.org/wikipedia/en/2/21...</td>\n",
       "    </tr>\n",
       "    <tr>\n",
       "      <th>3</th>\n",
       "      <td>4</td>\n",
       "      <td>Get_Out_(film)</td>\n",
       "      <td>https://upload.wikimedia.org/wikipedia/en/e/eb...</td>\n",
       "    </tr>\n",
       "    <tr>\n",
       "      <th>4</th>\n",
       "      <td>5</td>\n",
       "      <td>Mad_Max:_Fury_Road</td>\n",
       "      <td>https://upload.wikimedia.org/wikipedia/en/6/6e...</td>\n",
       "    </tr>\n",
       "    <tr>\n",
       "      <th>5</th>\n",
       "      <td>6</td>\n",
       "      <td>The_Cabinet_of_Dr._Caligari</td>\n",
       "      <td>https://upload.wikimedia.org/wikipedia/commons...</td>\n",
       "    </tr>\n",
       "    <tr>\n",
       "      <th>6</th>\n",
       "      <td>7</td>\n",
       "      <td>All_About_Eve</td>\n",
       "      <td>https://upload.wikimedia.org/wikipedia/en/2/22...</td>\n",
       "    </tr>\n",
       "    <tr>\n",
       "      <th>7</th>\n",
       "      <td>8</td>\n",
       "      <td>Inside_Out_(2015_film)</td>\n",
       "      <td>https://upload.wikimedia.org/wikipedia/en/0/0a...</td>\n",
       "    </tr>\n",
       "    <tr>\n",
       "      <th>8</th>\n",
       "      <td>9</td>\n",
       "      <td>The_Godfather</td>\n",
       "      <td>https://upload.wikimedia.org/wikipedia/en/1/1c...</td>\n",
       "    </tr>\n",
       "    <tr>\n",
       "      <th>9</th>\n",
       "      <td>10</td>\n",
       "      <td>Metropolis_(1927_film)</td>\n",
       "      <td>https://upload.wikimedia.org/wikipedia/en/0/06...</td>\n",
       "    </tr>\n",
       "    <tr>\n",
       "      <th>10</th>\n",
       "      <td>11</td>\n",
       "      <td>E.T._the_Extra-Terrestrial</td>\n",
       "      <td>https://upload.wikimedia.org/wikipedia/en/6/66...</td>\n",
       "    </tr>\n",
       "    <tr>\n",
       "      <th>11</th>\n",
       "      <td>12</td>\n",
       "      <td>Modern_Times_(film)</td>\n",
       "      <td>https://upload.wikimedia.org/wikipedia/commons...</td>\n",
       "    </tr>\n",
       "    <tr>\n",
       "      <th>12</th>\n",
       "      <td>13</td>\n",
       "      <td>It_Happened_One_Night</td>\n",
       "      <td>https://upload.wikimedia.org/wikipedia/en/1/11...</td>\n",
       "    </tr>\n",
       "    <tr>\n",
       "      <th>13</th>\n",
       "      <td>14</td>\n",
       "      <td>Singin'_in_the_Rain</td>\n",
       "      <td>https://upload.wikimedia.org/wikipedia/en/f/f9...</td>\n",
       "    </tr>\n",
       "    <tr>\n",
       "      <th>14</th>\n",
       "      <td>15</td>\n",
       "      <td>Boyhood_(film)</td>\n",
       "      <td>https://upload.wikimedia.org/wikipedia/en/a/a6...</td>\n",
       "    </tr>\n",
       "    <tr>\n",
       "      <th>15</th>\n",
       "      <td>16</td>\n",
       "      <td>Casablanca_(film)</td>\n",
       "      <td>https://upload.wikimedia.org/wikipedia/commons...</td>\n",
       "    </tr>\n",
       "    <tr>\n",
       "      <th>16</th>\n",
       "      <td>17</td>\n",
       "      <td>Moonlight_(2016_film)</td>\n",
       "      <td>https://upload.wikimedia.org/wikipedia/en/8/84...</td>\n",
       "    </tr>\n",
       "    <tr>\n",
       "      <th>17</th>\n",
       "      <td>18</td>\n",
       "      <td>Psycho_(1960_film)</td>\n",
       "      <td>https://upload.wikimedia.org/wikipedia/en/b/b9...</td>\n",
       "    </tr>\n",
       "    <tr>\n",
       "      <th>18</th>\n",
       "      <td>19</td>\n",
       "      <td>Laura_(1944_film)</td>\n",
       "      <td>https://upload.wikimedia.org/wikipedia/en/d/d6...</td>\n",
       "    </tr>\n",
       "    <tr>\n",
       "      <th>19</th>\n",
       "      <td>20</td>\n",
       "      <td>Nosferatu</td>\n",
       "      <td>https://upload.wikimedia.org/wikipedia/en/9/92...</td>\n",
       "    </tr>\n",
       "    <tr>\n",
       "      <th>20</th>\n",
       "      <td>21</td>\n",
       "      <td>Snow_White_and_the_Seven_Dwarfs_(1937_film)</td>\n",
       "      <td>https://upload.wikimedia.org/wikipedia/en/4/49...</td>\n",
       "    </tr>\n",
       "    <tr>\n",
       "      <th>21</th>\n",
       "      <td>22</td>\n",
       "      <td>A_Hard_Day%27s_Night_(film)</td>\n",
       "      <td>https://upload.wikimedia.org/wikipedia/en/4/47...</td>\n",
       "    </tr>\n",
       "    <tr>\n",
       "      <th>22</th>\n",
       "      <td>23</td>\n",
       "      <td>La_Grande_Illusion</td>\n",
       "      <td>https://upload.wikimedia.org/wikipedia/en/3/33...</td>\n",
       "    </tr>\n",
       "    <tr>\n",
       "      <th>23</th>\n",
       "      <td>24</td>\n",
       "      <td>North_by_Northwest</td>\n",
       "      <td>https://upload.wikimedia.org/wikipedia/commons...</td>\n",
       "    </tr>\n",
       "    <tr>\n",
       "      <th>24</th>\n",
       "      <td>25</td>\n",
       "      <td>The_Battle_of_Algiers</td>\n",
       "      <td>https://upload.wikimedia.org/wikipedia/en/a/aa...</td>\n",
       "    </tr>\n",
       "    <tr>\n",
       "      <th>25</th>\n",
       "      <td>26</td>\n",
       "      <td>Dunkirk_(2017_film)</td>\n",
       "      <td>https://upload.wikimedia.org/wikipedia/en/1/15...</td>\n",
       "    </tr>\n",
       "    <tr>\n",
       "      <th>26</th>\n",
       "      <td>27</td>\n",
       "      <td>The_Maltese_Falcon_(1941_film)</td>\n",
       "      <td>https://upload.wikimedia.org/wikipedia/en/9/99...</td>\n",
       "    </tr>\n",
       "    <tr>\n",
       "      <th>27</th>\n",
       "      <td>28</td>\n",
       "      <td>Repulsion_(film)</td>\n",
       "      <td>https://upload.wikimedia.org/wikipedia/en/8/89...</td>\n",
       "    </tr>\n",
       "    <tr>\n",
       "      <th>28</th>\n",
       "      <td>29</td>\n",
       "      <td>12_Years_a_Slave_(film)</td>\n",
       "      <td>https://upload.wikimedia.org/wikipedia/en/5/5c...</td>\n",
       "    </tr>\n",
       "    <tr>\n",
       "      <th>29</th>\n",
       "      <td>30</td>\n",
       "      <td>Gravity_(2013_film)</td>\n",
       "      <td>https://upload.wikimedia.org/wikipedia/en/f/f6...</td>\n",
       "    </tr>\n",
       "    <tr>\n",
       "      <th>...</th>\n",
       "      <td>...</td>\n",
       "      <td>...</td>\n",
       "      <td>...</td>\n",
       "    </tr>\n",
       "    <tr>\n",
       "      <th>70</th>\n",
       "      <td>71</td>\n",
       "      <td>Rebecca_(1940_film)</td>\n",
       "      <td>https://upload.wikimedia.org/wikipedia/en/1/16...</td>\n",
       "    </tr>\n",
       "    <tr>\n",
       "      <th>71</th>\n",
       "      <td>72</td>\n",
       "      <td>Rosemary%27s_Baby_(film)</td>\n",
       "      <td>https://upload.wikimedia.org/wikipedia/en/e/ef...</td>\n",
       "    </tr>\n",
       "    <tr>\n",
       "      <th>72</th>\n",
       "      <td>73</td>\n",
       "      <td>Finding_Nemo</td>\n",
       "      <td>https://upload.wikimedia.org/wikipedia/en/2/29...</td>\n",
       "    </tr>\n",
       "    <tr>\n",
       "      <th>73</th>\n",
       "      <td>74</td>\n",
       "      <td>Brooklyn_(film)</td>\n",
       "      <td>https://upload.wikimedia.org/wikipedia/en/5/5b...</td>\n",
       "    </tr>\n",
       "    <tr>\n",
       "      <th>74</th>\n",
       "      <td>75</td>\n",
       "      <td>The_Wrestler_(2008_film)</td>\n",
       "      <td>https://upload.wikimedia.org/wikipedia/en/3/3e...</td>\n",
       "    </tr>\n",
       "    <tr>\n",
       "      <th>75</th>\n",
       "      <td>76</td>\n",
       "      <td>The_39_Steps_(1935_film)</td>\n",
       "      <td>https://upload.wikimedia.org/wikipedia/en/9/95...</td>\n",
       "    </tr>\n",
       "    <tr>\n",
       "      <th>76</th>\n",
       "      <td>77</td>\n",
       "      <td>L.A._Confidential_(film)</td>\n",
       "      <td>https://upload.wikimedia.org/wikipedia/en/d/d8...</td>\n",
       "    </tr>\n",
       "    <tr>\n",
       "      <th>77</th>\n",
       "      <td>78</td>\n",
       "      <td>Gone_with_the_Wind_(film)</td>\n",
       "      <td>https://upload.wikimedia.org/wikipedia/commons...</td>\n",
       "    </tr>\n",
       "    <tr>\n",
       "      <th>78</th>\n",
       "      <td>79</td>\n",
       "      <td>The_Good,_the_Bad_and_the_Ugly</td>\n",
       "      <td>https://upload.wikimedia.org/wikipedia/en/4/45...</td>\n",
       "    </tr>\n",
       "    <tr>\n",
       "      <th>79</th>\n",
       "      <td>80</td>\n",
       "      <td>Skyfall</td>\n",
       "      <td>https://upload.wikimedia.org/wikipedia/en/a/a7...</td>\n",
       "    </tr>\n",
       "    <tr>\n",
       "      <th>80</th>\n",
       "      <td>81</td>\n",
       "      <td>Rome,_Open_City</td>\n",
       "      <td>https://upload.wikimedia.org/wikipedia/en/1/19...</td>\n",
       "    </tr>\n",
       "    <tr>\n",
       "      <th>81</th>\n",
       "      <td>82</td>\n",
       "      <td>Tokyo_Story</td>\n",
       "      <td>https://upload.wikimedia.org/wikipedia/en/5/5f...</td>\n",
       "    </tr>\n",
       "    <tr>\n",
       "      <th>82</th>\n",
       "      <td>83</td>\n",
       "      <td>Hell_or_High_Water_(film)</td>\n",
       "      <td>https://upload.wikimedia.org/wikipedia/en/8/8f...</td>\n",
       "    </tr>\n",
       "    <tr>\n",
       "      <th>83</th>\n",
       "      <td>84</td>\n",
       "      <td>Pinocchio_(1940_film)</td>\n",
       "      <td>https://upload.wikimedia.org/wikipedia/en/b/ba...</td>\n",
       "    </tr>\n",
       "    <tr>\n",
       "      <th>84</th>\n",
       "      <td>85</td>\n",
       "      <td>The_Jungle_Book_(2016_film)</td>\n",
       "      <td>https://upload.wikimedia.org/wikipedia/en/a/a4...</td>\n",
       "    </tr>\n",
       "    <tr>\n",
       "      <th>85</th>\n",
       "      <td>86</td>\n",
       "      <td>La_La_Land_(film)</td>\n",
       "      <td>https://upload.wikimedia.org/wikipedia/en/a/ab...</td>\n",
       "    </tr>\n",
       "    <tr>\n",
       "      <th>86</th>\n",
       "      <td>87</td>\n",
       "      <td>Star_Trek_(film)</td>\n",
       "      <td>https://upload.wikimedia.org/wikipedia/en/2/29...</td>\n",
       "    </tr>\n",
       "    <tr>\n",
       "      <th>87</th>\n",
       "      <td>88</td>\n",
       "      <td>High_Noon</td>\n",
       "      <td>https://upload.wikimedia.org/wikipedia/en/5/54...</td>\n",
       "    </tr>\n",
       "    <tr>\n",
       "      <th>88</th>\n",
       "      <td>89</td>\n",
       "      <td>Apocalypse_Now</td>\n",
       "      <td>https://upload.wikimedia.org/wikipedia/en/c/c2...</td>\n",
       "    </tr>\n",
       "    <tr>\n",
       "      <th>89</th>\n",
       "      <td>90</td>\n",
       "      <td>On_the_Waterfront</td>\n",
       "      <td>https://upload.wikimedia.org/wikipedia/en/9/93...</td>\n",
       "    </tr>\n",
       "    <tr>\n",
       "      <th>90</th>\n",
       "      <td>91</td>\n",
       "      <td>The_Wages_of_Fear</td>\n",
       "      <td>https://upload.wikimedia.org/wikipedia/en/f/f4...</td>\n",
       "    </tr>\n",
       "    <tr>\n",
       "      <th>91</th>\n",
       "      <td>92</td>\n",
       "      <td>The_Last_Picture_Show</td>\n",
       "      <td>https://upload.wikimedia.org/wikipedia/en/8/8f...</td>\n",
       "    </tr>\n",
       "    <tr>\n",
       "      <th>92</th>\n",
       "      <td>93</td>\n",
       "      <td>Harry_Potter_and_the_Deathly_Hallows_–_Part_2</td>\n",
       "      <td>https://upload.wikimedia.org/wikipedia/en/d/df...</td>\n",
       "    </tr>\n",
       "    <tr>\n",
       "      <th>93</th>\n",
       "      <td>94</td>\n",
       "      <td>The_Grapes_of_Wrath_(film)</td>\n",
       "      <td>https://upload.wikimedia.org/wikipedia/en/9/9f...</td>\n",
       "    </tr>\n",
       "    <tr>\n",
       "      <th>94</th>\n",
       "      <td>95</td>\n",
       "      <td>Roman_Holiday</td>\n",
       "      <td>https://upload.wikimedia.org/wikipedia/en/b/b7...</td>\n",
       "    </tr>\n",
       "    <tr>\n",
       "      <th>95</th>\n",
       "      <td>96</td>\n",
       "      <td>Man_on_Wire</td>\n",
       "      <td>https://upload.wikimedia.org/wikipedia/en/5/54...</td>\n",
       "    </tr>\n",
       "    <tr>\n",
       "      <th>96</th>\n",
       "      <td>97</td>\n",
       "      <td>Jaws_(film)</td>\n",
       "      <td>https://upload.wikimedia.org/wikipedia/en/e/eb...</td>\n",
       "    </tr>\n",
       "    <tr>\n",
       "      <th>97</th>\n",
       "      <td>98</td>\n",
       "      <td>Toy_Story</td>\n",
       "      <td>https://upload.wikimedia.org/wikipedia/en/1/13...</td>\n",
       "    </tr>\n",
       "    <tr>\n",
       "      <th>98</th>\n",
       "      <td>99</td>\n",
       "      <td>The_Godfather_Part_II</td>\n",
       "      <td>https://upload.wikimedia.org/wikipedia/en/0/03...</td>\n",
       "    </tr>\n",
       "    <tr>\n",
       "      <th>99</th>\n",
       "      <td>100</td>\n",
       "      <td>Battleship_Potemkin</td>\n",
       "      <td>https://upload.wikimedia.org/wikipedia/commons...</td>\n",
       "    </tr>\n",
       "  </tbody>\n",
       "</table>\n",
       "<p>100 rows × 3 columns</p>\n",
       "</div>"
      ],
      "text/plain": [
       "    ranking                                          title  \\\n",
       "0         1                   The_Wizard_of_Oz_(1939_film)   \n",
       "1         2                                   Citizen_Kane   \n",
       "2         3                                  The_Third_Man   \n",
       "3         4                                 Get_Out_(film)   \n",
       "4         5                             Mad_Max:_Fury_Road   \n",
       "5         6                    The_Cabinet_of_Dr._Caligari   \n",
       "6         7                                  All_About_Eve   \n",
       "7         8                         Inside_Out_(2015_film)   \n",
       "8         9                                  The_Godfather   \n",
       "9        10                         Metropolis_(1927_film)   \n",
       "10       11                     E.T._the_Extra-Terrestrial   \n",
       "11       12                            Modern_Times_(film)   \n",
       "12       13                          It_Happened_One_Night   \n",
       "13       14                            Singin'_in_the_Rain   \n",
       "14       15                                 Boyhood_(film)   \n",
       "15       16                              Casablanca_(film)   \n",
       "16       17                          Moonlight_(2016_film)   \n",
       "17       18                             Psycho_(1960_film)   \n",
       "18       19                              Laura_(1944_film)   \n",
       "19       20                                      Nosferatu   \n",
       "20       21    Snow_White_and_the_Seven_Dwarfs_(1937_film)   \n",
       "21       22                    A_Hard_Day%27s_Night_(film)   \n",
       "22       23                             La_Grande_Illusion   \n",
       "23       24                             North_by_Northwest   \n",
       "24       25                          The_Battle_of_Algiers   \n",
       "25       26                            Dunkirk_(2017_film)   \n",
       "26       27                 The_Maltese_Falcon_(1941_film)   \n",
       "27       28                               Repulsion_(film)   \n",
       "28       29                        12_Years_a_Slave_(film)   \n",
       "29       30                            Gravity_(2013_film)   \n",
       "..      ...                                            ...   \n",
       "70       71                            Rebecca_(1940_film)   \n",
       "71       72                       Rosemary%27s_Baby_(film)   \n",
       "72       73                                   Finding_Nemo   \n",
       "73       74                                Brooklyn_(film)   \n",
       "74       75                       The_Wrestler_(2008_film)   \n",
       "75       76                       The_39_Steps_(1935_film)   \n",
       "76       77                       L.A._Confidential_(film)   \n",
       "77       78                      Gone_with_the_Wind_(film)   \n",
       "78       79                 The_Good,_the_Bad_and_the_Ugly   \n",
       "79       80                                        Skyfall   \n",
       "80       81                                Rome,_Open_City   \n",
       "81       82                                    Tokyo_Story   \n",
       "82       83                      Hell_or_High_Water_(film)   \n",
       "83       84                          Pinocchio_(1940_film)   \n",
       "84       85                    The_Jungle_Book_(2016_film)   \n",
       "85       86                              La_La_Land_(film)   \n",
       "86       87                               Star_Trek_(film)   \n",
       "87       88                                      High_Noon   \n",
       "88       89                                 Apocalypse_Now   \n",
       "89       90                              On_the_Waterfront   \n",
       "90       91                              The_Wages_of_Fear   \n",
       "91       92                          The_Last_Picture_Show   \n",
       "92       93  Harry_Potter_and_the_Deathly_Hallows_–_Part_2   \n",
       "93       94                     The_Grapes_of_Wrath_(film)   \n",
       "94       95                                  Roman_Holiday   \n",
       "95       96                                    Man_on_Wire   \n",
       "96       97                                    Jaws_(film)   \n",
       "97       98                                      Toy_Story   \n",
       "98       99                          The_Godfather_Part_II   \n",
       "99      100                            Battleship_Potemkin   \n",
       "\n",
       "                                           poster_url  \n",
       "0   https://upload.wikimedia.org/wikipedia/commons...  \n",
       "1   https://upload.wikimedia.org/wikipedia/en/c/ce...  \n",
       "2   https://upload.wikimedia.org/wikipedia/en/2/21...  \n",
       "3   https://upload.wikimedia.org/wikipedia/en/e/eb...  \n",
       "4   https://upload.wikimedia.org/wikipedia/en/6/6e...  \n",
       "5   https://upload.wikimedia.org/wikipedia/commons...  \n",
       "6   https://upload.wikimedia.org/wikipedia/en/2/22...  \n",
       "7   https://upload.wikimedia.org/wikipedia/en/0/0a...  \n",
       "8   https://upload.wikimedia.org/wikipedia/en/1/1c...  \n",
       "9   https://upload.wikimedia.org/wikipedia/en/0/06...  \n",
       "10  https://upload.wikimedia.org/wikipedia/en/6/66...  \n",
       "11  https://upload.wikimedia.org/wikipedia/commons...  \n",
       "12  https://upload.wikimedia.org/wikipedia/en/1/11...  \n",
       "13  https://upload.wikimedia.org/wikipedia/en/f/f9...  \n",
       "14  https://upload.wikimedia.org/wikipedia/en/a/a6...  \n",
       "15  https://upload.wikimedia.org/wikipedia/commons...  \n",
       "16  https://upload.wikimedia.org/wikipedia/en/8/84...  \n",
       "17  https://upload.wikimedia.org/wikipedia/en/b/b9...  \n",
       "18  https://upload.wikimedia.org/wikipedia/en/d/d6...  \n",
       "19  https://upload.wikimedia.org/wikipedia/en/9/92...  \n",
       "20  https://upload.wikimedia.org/wikipedia/en/4/49...  \n",
       "21  https://upload.wikimedia.org/wikipedia/en/4/47...  \n",
       "22  https://upload.wikimedia.org/wikipedia/en/3/33...  \n",
       "23  https://upload.wikimedia.org/wikipedia/commons...  \n",
       "24  https://upload.wikimedia.org/wikipedia/en/a/aa...  \n",
       "25  https://upload.wikimedia.org/wikipedia/en/1/15...  \n",
       "26  https://upload.wikimedia.org/wikipedia/en/9/99...  \n",
       "27  https://upload.wikimedia.org/wikipedia/en/8/89...  \n",
       "28  https://upload.wikimedia.org/wikipedia/en/5/5c...  \n",
       "29  https://upload.wikimedia.org/wikipedia/en/f/f6...  \n",
       "..                                                ...  \n",
       "70  https://upload.wikimedia.org/wikipedia/en/1/16...  \n",
       "71  https://upload.wikimedia.org/wikipedia/en/e/ef...  \n",
       "72  https://upload.wikimedia.org/wikipedia/en/2/29...  \n",
       "73  https://upload.wikimedia.org/wikipedia/en/5/5b...  \n",
       "74  https://upload.wikimedia.org/wikipedia/en/3/3e...  \n",
       "75  https://upload.wikimedia.org/wikipedia/en/9/95...  \n",
       "76  https://upload.wikimedia.org/wikipedia/en/d/d8...  \n",
       "77  https://upload.wikimedia.org/wikipedia/commons...  \n",
       "78  https://upload.wikimedia.org/wikipedia/en/4/45...  \n",
       "79  https://upload.wikimedia.org/wikipedia/en/a/a7...  \n",
       "80  https://upload.wikimedia.org/wikipedia/en/1/19...  \n",
       "81  https://upload.wikimedia.org/wikipedia/en/5/5f...  \n",
       "82  https://upload.wikimedia.org/wikipedia/en/8/8f...  \n",
       "83  https://upload.wikimedia.org/wikipedia/en/b/ba...  \n",
       "84  https://upload.wikimedia.org/wikipedia/en/a/a4...  \n",
       "85  https://upload.wikimedia.org/wikipedia/en/a/ab...  \n",
       "86  https://upload.wikimedia.org/wikipedia/en/2/29...  \n",
       "87  https://upload.wikimedia.org/wikipedia/en/5/54...  \n",
       "88  https://upload.wikimedia.org/wikipedia/en/c/c2...  \n",
       "89  https://upload.wikimedia.org/wikipedia/en/9/93...  \n",
       "90  https://upload.wikimedia.org/wikipedia/en/f/f4...  \n",
       "91  https://upload.wikimedia.org/wikipedia/en/8/8f...  \n",
       "92  https://upload.wikimedia.org/wikipedia/en/d/df...  \n",
       "93  https://upload.wikimedia.org/wikipedia/en/9/9f...  \n",
       "94  https://upload.wikimedia.org/wikipedia/en/b/b7...  \n",
       "95  https://upload.wikimedia.org/wikipedia/en/5/54...  \n",
       "96  https://upload.wikimedia.org/wikipedia/en/e/eb...  \n",
       "97  https://upload.wikimedia.org/wikipedia/en/1/13...  \n",
       "98  https://upload.wikimedia.org/wikipedia/en/0/03...  \n",
       "99  https://upload.wikimedia.org/wikipedia/commons...  \n",
       "\n",
       "[100 rows x 3 columns]"
      ]
     },
     "execution_count": 32,
     "metadata": {},
     "output_type": "execute_result"
    }
   ],
   "source": [
    "# Create DataFrame from list of dictionaries\n",
    "df = pd.DataFrame(df_list, columns = ['ranking', 'title', 'poster_url'])\n",
    "df = df.sort_values('ranking').reset_index(drop=True)\n",
    "df"
   ]
  },
  {
   "cell_type": "markdown",
   "metadata": {},
   "source": [
    "## 5. Relational Databases and Pandas"
   ]
  },
  {
   "cell_type": "code",
   "execution_count": 18,
   "metadata": {},
   "outputs": [],
   "source": [
    "df = pd.read_csv('pima-indians-diabetes.csv')"
   ]
  },
  {
   "cell_type": "code",
   "execution_count": 20,
   "metadata": {},
   "outputs": [
    {
     "data": {
      "text/html": [
       "<div>\n",
       "<style>\n",
       "    .dataframe thead tr:only-child th {\n",
       "        text-align: right;\n",
       "    }\n",
       "\n",
       "    .dataframe thead th {\n",
       "        text-align: left;\n",
       "    }\n",
       "\n",
       "    .dataframe tbody tr th {\n",
       "        vertical-align: top;\n",
       "    }\n",
       "</style>\n",
       "<table border=\"1\" class=\"dataframe\">\n",
       "  <thead>\n",
       "    <tr style=\"text-align: right;\">\n",
       "      <th></th>\n",
       "      <th>Number of times pregnant</th>\n",
       "      <th>Plasma glucose concentration</th>\n",
       "      <th>Diastolic blood pressure</th>\n",
       "      <th>Triceps skin fold thickness</th>\n",
       "      <th>2-Hour serum insulin</th>\n",
       "      <th>Body mass index</th>\n",
       "      <th>Diabetes pedigree function</th>\n",
       "      <th>Ages</th>\n",
       "      <th>Class variable</th>\n",
       "    </tr>\n",
       "  </thead>\n",
       "  <tbody>\n",
       "    <tr>\n",
       "      <th>0</th>\n",
       "      <td>6</td>\n",
       "      <td>148</td>\n",
       "      <td>72</td>\n",
       "      <td>35</td>\n",
       "      <td>0</td>\n",
       "      <td>33.6</td>\n",
       "      <td>0.627</td>\n",
       "      <td>50</td>\n",
       "      <td>1</td>\n",
       "    </tr>\n",
       "    <tr>\n",
       "      <th>1</th>\n",
       "      <td>1</td>\n",
       "      <td>85</td>\n",
       "      <td>66</td>\n",
       "      <td>29</td>\n",
       "      <td>0</td>\n",
       "      <td>26.6</td>\n",
       "      <td>0.351</td>\n",
       "      <td>31</td>\n",
       "      <td>0</td>\n",
       "    </tr>\n",
       "    <tr>\n",
       "      <th>2</th>\n",
       "      <td>8</td>\n",
       "      <td>183</td>\n",
       "      <td>64</td>\n",
       "      <td>0</td>\n",
       "      <td>0</td>\n",
       "      <td>23.3</td>\n",
       "      <td>0.672</td>\n",
       "      <td>32</td>\n",
       "      <td>1</td>\n",
       "    </tr>\n",
       "  </tbody>\n",
       "</table>\n",
       "</div>"
      ],
      "text/plain": [
       "   Number of times pregnant  Plasma glucose concentration  \\\n",
       "0                         6                           148   \n",
       "1                         1                            85   \n",
       "2                         8                           183   \n",
       "\n",
       "   Diastolic blood pressure  Triceps skin fold thickness  \\\n",
       "0                        72                           35   \n",
       "1                        66                           29   \n",
       "2                        64                            0   \n",
       "\n",
       "   2-Hour serum insulin  Body mass index  Diabetes pedigree function  Ages  \\\n",
       "0                     0             33.6                       0.627    50   \n",
       "1                     0             26.6                       0.351    31   \n",
       "2                     0             23.3                       0.672    32   \n",
       "\n",
       "   Class variable  \n",
       "0               1  \n",
       "1               0  \n",
       "2               1  "
      ]
     },
     "execution_count": 20,
     "metadata": {},
     "output_type": "execute_result"
    }
   ],
   "source": [
    "df.head(3)"
   ]
  },
  {
   "cell_type": "markdown",
   "metadata": {},
   "source": [
    "###  Connect to a database"
   ]
  },
  {
   "cell_type": "code",
   "execution_count": 21,
   "metadata": {
    "collapsed": true
   },
   "outputs": [],
   "source": [
    "from sqlalchemy import create_engine\n",
    "\n",
    "# Create SQLAlchemy Engine and empty bestofrt database\n",
    "# bestofrt.db will not show up in the Jupyter Notebook dashboard yet\n",
    "engine = create_engine('sqlite:///bestofrt.db')"
   ]
  },
  {
   "cell_type": "markdown",
   "metadata": {},
   "source": [
    "###  Store pandas DataFrame in database\n",
    "Store the data in the cleaned master dataset (bestofrt_master) in that database."
   ]
  },
  {
   "cell_type": "code",
   "execution_count": 22,
   "metadata": {
    "collapsed": true
   },
   "outputs": [],
   "source": [
    "# Store cleaned master DataFrame ('df') in a table called master in bestofrt.db\n",
    "# bestofrt.db will be visible now in the Jupyter Notebook dashboard\n",
    "df.to_sql('master', engine, index=False)"
   ]
  },
  {
   "cell_type": "markdown",
   "metadata": {},
   "source": [
    "### Read database data into a pandas DataFrame\n",
    "Read the brand new data in that database back into a pandas DataFrame."
   ]
  },
  {
   "cell_type": "code",
   "execution_count": 24,
   "metadata": {},
   "outputs": [],
   "source": [
    "df_gather = pd.read_sql('SELECT * FROM master', engine)"
   ]
  },
  {
   "cell_type": "code",
   "execution_count": 25,
   "metadata": {},
   "outputs": [
    {
     "data": {
      "text/html": [
       "<div>\n",
       "<style>\n",
       "    .dataframe thead tr:only-child th {\n",
       "        text-align: right;\n",
       "    }\n",
       "\n",
       "    .dataframe thead th {\n",
       "        text-align: left;\n",
       "    }\n",
       "\n",
       "    .dataframe tbody tr th {\n",
       "        vertical-align: top;\n",
       "    }\n",
       "</style>\n",
       "<table border=\"1\" class=\"dataframe\">\n",
       "  <thead>\n",
       "    <tr style=\"text-align: right;\">\n",
       "      <th></th>\n",
       "      <th>Number of times pregnant</th>\n",
       "      <th>Plasma glucose concentration</th>\n",
       "      <th>Diastolic blood pressure</th>\n",
       "      <th>Triceps skin fold thickness</th>\n",
       "      <th>2-Hour serum insulin</th>\n",
       "      <th>Body mass index</th>\n",
       "      <th>Diabetes pedigree function</th>\n",
       "      <th>Ages</th>\n",
       "      <th>Class variable</th>\n",
       "    </tr>\n",
       "  </thead>\n",
       "  <tbody>\n",
       "    <tr>\n",
       "      <th>0</th>\n",
       "      <td>6</td>\n",
       "      <td>148</td>\n",
       "      <td>72</td>\n",
       "      <td>35</td>\n",
       "      <td>0</td>\n",
       "      <td>33.6</td>\n",
       "      <td>0.627</td>\n",
       "      <td>50</td>\n",
       "      <td>1</td>\n",
       "    </tr>\n",
       "    <tr>\n",
       "      <th>1</th>\n",
       "      <td>1</td>\n",
       "      <td>85</td>\n",
       "      <td>66</td>\n",
       "      <td>29</td>\n",
       "      <td>0</td>\n",
       "      <td>26.6</td>\n",
       "      <td>0.351</td>\n",
       "      <td>31</td>\n",
       "      <td>0</td>\n",
       "    </tr>\n",
       "    <tr>\n",
       "      <th>2</th>\n",
       "      <td>8</td>\n",
       "      <td>183</td>\n",
       "      <td>64</td>\n",
       "      <td>0</td>\n",
       "      <td>0</td>\n",
       "      <td>23.3</td>\n",
       "      <td>0.672</td>\n",
       "      <td>32</td>\n",
       "      <td>1</td>\n",
       "    </tr>\n",
       "  </tbody>\n",
       "</table>\n",
       "</div>"
      ],
      "text/plain": [
       "   Number of times pregnant  Plasma glucose concentration  \\\n",
       "0                         6                           148   \n",
       "1                         1                            85   \n",
       "2                         8                           183   \n",
       "\n",
       "   Diastolic blood pressure  Triceps skin fold thickness  \\\n",
       "0                        72                           35   \n",
       "1                        66                           29   \n",
       "2                        64                            0   \n",
       "\n",
       "   2-Hour serum insulin  Body mass index  Diabetes pedigree function  Ages  \\\n",
       "0                     0             33.6                       0.627    50   \n",
       "1                     0             26.6                       0.351    31   \n",
       "2                     0             23.3                       0.672    32   \n",
       "\n",
       "   Class variable  \n",
       "0               1  \n",
       "1               0  \n",
       "2               1  "
      ]
     },
     "execution_count": 25,
     "metadata": {},
     "output_type": "execute_result"
    }
   ],
   "source": [
    "df_gather.head(3)"
   ]
  },
  {
   "cell_type": "code",
   "execution_count": null,
   "metadata": {
    "collapsed": true
   },
   "outputs": [],
   "source": []
  }
 ],
 "metadata": {
  "kernelspec": {
   "display_name": "Python 3",
   "language": "python",
   "name": "python3"
  },
  "language_info": {
   "codemirror_mode": {
    "name": "ipython",
    "version": 3
   },
   "file_extension": ".py",
   "mimetype": "text/x-python",
   "name": "python",
   "nbconvert_exporter": "python",
   "pygments_lexer": "ipython3",
   "version": "3.6.3"
  }
 },
 "nbformat": 4,
 "nbformat_minor": 2
}
